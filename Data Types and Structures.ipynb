{
  "nbformat": 4,
  "nbformat_minor": 0,
  "metadata": {
    "colab": {
      "provenance": []
    },
    "kernelspec": {
      "name": "python3",
      "display_name": "Python 3"
    },
    "language_info": {
      "name": "python"
    }
  },
  "cells": [
    {
      "cell_type": "markdown",
      "source": [
        "**Data Types and Structures Questions**\n",
        "\n",
        "**Answer-1**\n",
        "\n",
        "  Data structures are specialized formats for organizing, managing, and storing data in a way that enables efficient access and modification. They define the relationships between the data and the operations that can be performed on it. Examples of data structures include arrays, linked lists, stacks, queues, trees, graphs, hash tables, and more.\n",
        "\n",
        "  1- **Efficient Data Management:**\n",
        "\n",
        "      Data structures help in organizing data so it can be stored and retrieved efficiently.\n",
        "\n",
        "      For example, a hash table allows for near-instantaneous lookup of data by key.\n",
        "\n",
        "  2- **Optimized Performance:**\n",
        "\n",
        "      Choosing the right data structure can significantly improve the performance of algorithms.\n",
        "\n",
        "      For instance, a binary search tree can make searching, inserting, and deleting operations faster compared to a simple list.\n",
        "\n",
        "  3- **Reusability and Modularity:**\n",
        "    \n",
        "      Data structures often form the backbone of reusable libraries and frameworks, enabling developers to build robust applications faster.\n",
        "\n",
        "\n",
        "       \n",
        "\n",
        "\n"
      ],
      "metadata": {
        "id": "Tl0_91hR2SaU"
      }
    },
    {
      "cell_type": "markdown",
      "source": [
        "**Answer - 2**\n",
        "\n",
        "The difference between mutable and immutable data types lies in whether or not their values can be changed after they are created.\n",
        "\n",
        " **Mutable Data Types**\n",
        "   \n",
        "\n",
        "   **Definition:** Objects whose values can be modified after creation\n",
        "\n",
        "   **Characteristics:**\n",
        "        The object can be updated without changing its identity (memory address).\n",
        "      Operations that modify the object happen \"in place.\"\n",
        "\n",
        "   **Examples**:\n",
        "\n",
        "  **Lists:** You can add, remove, or change elements in a list.\n",
        "\n",
        "  **Dictionaries:** Keys and values can be added, updated, or removed.\n",
        "    \n",
        "  **Sets:** Elements can be added or removed.\n",
        "\n",
        "  **Example**\n",
        "\n",
        "\n",
        "\n"
      ],
      "metadata": {
        "id": "bu-_dagE4VMI"
      }
    },
    {
      "cell_type": "code",
      "source": [
        "# List (mutable)\n",
        "my_list = [1, 2, 3]\n",
        "my_list.append(4)  # Modify the list\n",
        "print(my_list)  # Output: [1, 2, 3, 4]\n",
        "\n",
        "# Dictionary (mutable)\n",
        "my_dict = {'a': 1, 'b': 2}\n",
        "my_dict['c'] = 3  # Add a new key-value pair\n",
        "print(my_dict)  # Output: {'a': 1, 'b': 2, 'c': 3}\n"
      ],
      "metadata": {
        "id": "_xgR6ZeI5xVF"
      },
      "execution_count": null,
      "outputs": []
    },
    {
      "cell_type": "markdown",
      "source": [
        "**Immutable Data Types**\n",
        "\n",
        "**Definition:** Objects whose values cannot be changed after creation.\n",
        "**Characteristics**:\n",
        "Any operation that seems to \"modify\" the object actually creates a new object.\n",
        "The original object remains unchanged.\n",
        "\n",
        "**Examples:**\n",
        "**Strings:** Any operation on a string creates a new string.\n",
        "\n",
        "**Tuples:** Immutable sequences of elements.\n",
        "\n",
        "**Integers, Floats, Booleans:** Cannot be changed after assignment.\n",
        "\n",
        "**Example**\n"
      ],
      "metadata": {
        "id": "RNHYPa9m51Rk"
      }
    },
    {
      "cell_type": "code",
      "source": [
        "# String (immutable)\n",
        "my_string = \"hello\"\n",
        "new_string = my_string.upper()  # Creates a new string\n",
        "print(my_string)  # Output: \"hello\" (original remains unchanged)\n",
        "print(new_string)  # Output: \"HELLO\"\n",
        "\n",
        "# Tuple (immutable)\n",
        "my_tuple = (1, 2, 3)\n",
        "# my_tuple[0] = 4  # This will raise a TypeError\n"
      ],
      "metadata": {
        "id": "2jIwn5DO6qOr"
      },
      "execution_count": null,
      "outputs": []
    },
    {
      "cell_type": "markdown",
      "source": [
        "**Answer-3**\n",
        "\n",
        "In Python, lists and tuples are both used to store collections of items. However, they have several key differences in terms of functionality, performance, and usage. Here's a breakdown:\n",
        "\n",
        "**1. Mutability**\n",
        "\n",
        "**Lists:** Mutable; their elements can be modified, added, or removed.\n",
        "\n",
        "**Tuples:**Immutable; their elements cannot be changed after the tuple is created.\n",
        "\n",
        "**2. Performance**\n",
        "\n",
        "**Lists:** Slightly slower due to their mutability and dynamic nature.\n",
        "\n",
        "**Tuples:** Faster because they are immutable and have a fixed size.\n",
        "\n",
        "**3. Methods**\n",
        "\n",
        "**Lists:** Have more built-in methods, such as .append(), .remove(), .sort(), etc., because they are mutable.\n",
        "\n",
        "**Tuples:** Have fewer methods, mainly .count() and .index(), since they cannot be modified.\n",
        "\n",
        "\n",
        "\n",
        "\n"
      ],
      "metadata": {
        "id": "lXREJSoM63tT"
      }
    },
    {
      "cell_type": "markdown",
      "source": [
        "**Answer-4**\n",
        "\n",
        "In Python, dictionaries are data structures that store data in the form of key-value pairs. They are implemented as hash tables, which allow for efficient retrieval, insertion, and deletion of data. Here's how dictionaries store and manage data:\n",
        "\n",
        "**1-Hash Function:**\n",
        "\n",
        "When a key is added, Python computes the hash value of the key using the __hash__() method.\n",
        "\n",
        "The hash value is used to determine the index in the hash table.\n",
        "\n",
        "**2-Key-Value Pair Storage:**\n",
        "\n",
        "The key and value are stored together in the hash table.\n",
        "\n",
        "Internally, the dictionary maintains an array (the hash table) where each slot contains a reference to the key-value pair.\n",
        "\n",
        "**3-Dynamic Resizing:**\n",
        "\n",
        "As more key-value pairs are added, the dictionary may resize itself (allocate a larger hash table) to maintain efficiency.\n",
        "\n",
        "During resizing, all key-value pairs are rehashed and redistributed into the new table.\n",
        "\n",
        "\n",
        "\n"
      ],
      "metadata": {
        "id": "LcNBu69h8WN2"
      }
    },
    {
      "cell_type": "markdown",
      "source": [
        "**Answer-5**\n",
        "\n",
        "A set in Python is a collection of unique, unordered elements. It offers several advantages over a list in certain situations, making it the preferred choice in specific use cases. Here's why you might use a set instead of a list:\n",
        "\n",
        "1. Uniqueness of Elements\n",
        "2. Fast Membership Testing\n",
        "3. Set Operations\n",
        "4. Performance\n",
        "5. Order Irrelevance\n"
      ],
      "metadata": {
        "id": "djMc-JwO9G__"
      }
    },
    {
      "cell_type": "markdown",
      "source": [
        "**Answer-6**\n",
        "\n",
        "n Python, a string and a list are both sequences, meaning they store collections of elements in a specific order. However, they differ significantly in terms of functionality, usage, and properties.\n",
        "\n",
        "**What is a String in Python?**\n",
        "\n",
        "A string is an immutable sequence of characters used to represent text. Strings are defined using single quotes ('), double quotes (\"), or triple quotes (''' or \"\"\") for multi-line strings."
      ],
      "metadata": {
        "id": "NSm9SdRF9-aV"
      }
    },
    {
      "cell_type": "markdown",
      "source": [
        "![py.png](data:image/png;base64,iVBORw0KGgoAAAANSUhEUgAAA2cAAAHLCAYAAABMCuDZAAAAAXNSR0IArs4c6QAAAARnQU1BAACxjwv8YQUAAAAJcEhZcwAAFiUAABYlAUlSJPAAAM51SURBVHhe7J0FvBXFF8cHu7uwxe5WRDGxULHQv62omCi22KKo2N1iB2B3J3ahoqjYRYiIhaIo+9/vsPOYt2/vvXvz7X3v9/18Ft7du3d3duLMOTNnzrQJQowQQgghhBBCiGZliuh/IYQQQgghhBDNiIwzIYQQQgghhMgAMs6EEEIIIYQQIgPIOBNCCCGEEEKIDCDjTAghhBBCCCEygIwzIYQQQgghhMgAMs6EEEIIIYQQIgPIOBNCCCGEEEKIDCDjTAghhBBCCCEygIwzIYQQQgghhMgAMs6EEEIIIYQQIgPIOBNCCCGEEEKIDCDjrAqMHTvWnHHGGWaRRRYx66yzjnnkkUdMEATRt035+++/zTPPPGP23ntv+5tZZpnFrL766ubyyy83//zzT3TVZL7//ntz3nnnmY4dO9pr559/frPDDjuYTz/9NLpCCCGqD3LtxRdfNFtssYWVQ4cffrj56aefom9Flvn555/N9ttvb/sQd5x77rnRt7WBvuyQQw6xdYc69NZbb0XfCCFE60XGWYX577//zFVXXWUuuOACa6R99NFH5vjjjzdDhgyJrmgMisxhhx1mjav777/f/gY+++wz88UXX9j7OVCEHnroIbP55pubPn36mPfff9+e/+OPP6xx534rhBC14JNPPjHHHHOMefXVV60cuvnmm81ll12WOKgkhM+ff/5pzjrrLHP77bfbukMdOu2006zBJoQQrZlGxlkxI2nM0qy77rqNrl1qqaXsKGq9gAEUf4ekY5NNNjEHH3ywufXWW23HkW8WDKVk9OjR0adJfPfdd+arr76KPk3mr7/+Mn379jX9+/ePzuTnjTfeMCeccIK9n2j5JLXHpIMZVOonxv3vv/8e/Vq0NCZOnGjlLoM/u+yyi1l++eUb6oCbeTj66KPNfffdZ5XdWvDrr782mbFHrqJ4i9bBwIEDG8kj+lTqQCHGjx9vRo4cGX2aBIOZo0aNij4JIUTrpKSZMzreK6+8sslsEAoigrmlgavFHXfcYXr06GGWW245s8cee9hZqyQjbbrppjNLLLFE9GkSSy+9tDVc42Bs3XnnndGnSaBwHXvsseakk04yc845Z3R2Up7fcsstjQyzmWaayXTt2tX07t3b7LvvvmbKKaeMvhGtCeoi9RO32A033NA8/PDDeQcQyuXff/+1Mya41l566aXRWVFNGBRCvq655pqmV69e5rHHHmskC9zMw/XXX28uvPBCM2LEiOibyVAnUHwZDML9EOO/XNq2bWvWWGON6NMkVlhhBTPzzDNHn4RIZsYZZzRLLrlk9GkSq6yyillggQWiT+UjWSWEqEeKNs7o4FH+cF/xYYS/W7duZqqpporOtFx4/y5duph77rnHjmb7tGnTxuy+++7W1Wf22We3xhauGssss0x0xWTeeeedRiPcK664os3XU045xbpC8v/0009vv2OEkVFFnyOOOMJcd9115sgjjzSXXHKJVdxE64YRa5R3DP9KM27cOLuWcuWVVzZrrbWWda1l9FtUF8qUwZe77rorOlM8zKbhAYAyfMABB1Rs9n3hhRe28q1Dhw52sGifffYxBx54oAaKREGmnXZaO0jAYCd1hzp08sknm/nmmy+6onQkq4QQ9UzRxtmwYcPsmgIfRk5PPPFEM9tss0Vn6heE+cYbb2yPfMYO67t69uxp7r333iazFBhlp556qvnmm2/Ma6+9ZrbeemtrtPng0hhXkFZbbTWr7CTx448/mvfeey/6NAlmKVuDMSwmg/L76KOPmgcffNCcc845duYUxcaHesX3lV73Q+CawYMHV0yxF4Uhzxmwef3116Mzk/FlFUd8FsIHA+/tt9+OPlUO5NoGG2xgnnjiCTN8+HDbN8w111zRt0LkZ8EFF7RuutQd6lClBhglq4QQ9UxRxlmSOyOKIe42SW579QjBOR544AF7PPvss+aXX34xH3zwgR3hiyvBzHrhRlSpDqDY0WaNTrc+cPlhjdlGG21kDj30UNOvXz/r7hqvm59//rnW/bQAvv32W/PCCy9EnybBYBiyifW9TlZxMBOP+yPrWFn7I4QQQoj6I7VxxuwQI/a48vkcdNBB1qUxPjPUUphiiinMoosuas4880yrBC+00ELRN5NgRBs3RyGaA9rdqquu2mTEGdcg3IZEfTNmzJgma3s33XRTa6Ahm+JglGG8zzvvvNEZIYQQQtQTqY0z3BmvvvrqRmukttpqK2ucFXKtYwQfo87fx4u1WLhoEQIeFwQH1zIT5yI/caB8fvjhh9EVjYlHitp2222bRICqBCjBnTp1skFB4rC+57fffos+NU0TxqtbfI8xxzmUpxtvvNGec/CZ8+53jIyzroy/N9tss+iqyXDOXct1uEr6kK/PP/+8LSMX2Y3833nnnc3dd9+dc2aFCJ3uvv69Ce3PnjTcg/Ur8QiUlX4e199www2mc+fODfeiDr300ktN1vrF4ffPPfecrUvsGefuzd+s3yGd/jYFjmLqahxmLXDR4X3db/0oekmuaZXghx9+sDMsPijobr1inGLf0dVZBimYsfEhFDbfcVDPaXtEFHXnOFjjFI8eyGwzRoZ/Xbw9UIbMZPvXUG5xyHfWXLp6wsH742pNJMFCwVFKKfOkSJq0e6AseLard/zP53gZlcrXX3/dJD+T8NNIOflQjpSnS7urm7nei/b2+OOP27W2nGNNLGt48uWDA5fKeFRcnke5YHgiU528oNwuuuiivHul8TvK1c9jfk+9I4+TnhdPE1DuRDiNywjS4Nb45WvvSZA26iN1mXv490VmsvYpV52sRp0iH9kv07UN5NFuu+2WSobWglyy38eVN9dS/3gHrqWtsmSAgFguYmgxsor8dhTzDCGEqDapjDM6MQJP+GsWmEFizdU888wTnUmGSId0DHRU/j5eKGcsUmd/L75zroEzzDCD2XLLLe3fDoyCd999N/o0GTrO+DoKFv/OPffc0afKgoGG4Gbhsg/KUtY2XiXP9txzT2usEhHS5S/5j2//fvvtZ7bbbruGvdIKQcfUvXt3uycN90AxIxKWo9LPQ+lAWT7qqKPMyy+/bM9xL+oQYcST1voB5+iUWYPD84hiiLLm4G8U8aQ1WcXWVQf5gBGJQkgwDt7X/RYl2kXRq/Q2EzyXdkFABvLfgbKJQpFEqe+YlmmmmcYOpvhgxLvnOHC7jActoWz8MsGl+Msvv4w+GbP22ms3ioTq5ztrPF09AerZFVdcYd0/zz///CYKn6OS+UHde/rpp6384tmu3vE/nzH2ilXwiNhKoCAfjAZkb6WMvULwXrQ32rBzsUT2JrW/tFB2t912m92zkS1KXP5Sbqeffro1yllnG4ff0ZYoVz+P+T0u9yjdcTfQJFy5I2PiMoI0ICMwjAgskRZkIkGciOiLkcE9/PvyTKIGknbegXcpRKl1it8xsED+EvnXtQ3k0SOPPGJl6IABAzJhoOUD3QOjijzjf8rWDUzQVjEyiU6atl9JohbPEEKIYkhlnBG2OR4pDGUIZSkfdAh0HkmGlQ9ugccdd1xDZ4yBhaD04R5xBYvrWfTrwJWLWYpqrsXC8IsrnwTqSFIkmgtnSGEk5INRRiI9FlIYUVCuvfbanAEFKv08OkSCXTz55JPRmcbQcaLkECLZB4UEhQgjMR7ZshCl1lUgnbSHuAFSDfzR3znmmMOGzmeGEJg9YMSeKGUMcsQp5x2LAeV08cUXjz5N2rsoPpudlIahQ4c2moEm7Luv3OLK59z1UGyZEcB4z5fv1BVmK6655pomynCl8wNZhGGRy5Cj/TDDhzKYFgIEUcZxqOft27e3UWHJt2oq2UleE+XCAArlkuueuNBjwMQ34ceAJo9z/Y76wix1rk3/AaMWg6VQuRcL6UuTR1zDO6D0F6LUOvXKK69YA95vPz6kgZnGpJnorEB+spQAWZ8mX0uhFs8QQohiKWicMXLNCKcvuFDEt9lmG5NvnRnRl1iY7ncqRJZjFoGZJjoFZjccdMYYgQhLFDBcnnwIyhFXjuiA/dF3lJV8EcsqATMD5USlJH28Kwv447MbfOY833Msu+yydtSev3H1icM5dy3XkTY2Iea8b0iRz7gkke8EDaAcHFzHCGq+UVy+Z3Q5iWo8DwWMWQsMbYwe3J6IgOmDgUckTB/qQpLihlLP3nG4pqCwxOtIOXWVZzEL5z/Tf38ORszJIwyqasHABPUHw2jqqaeOzk6mnHd0dZZyIy99MG5cHcTNir2LMCj82R7yhpkyB5+TDPSPP/7YuoQ5mA30jToGRajjgGLLjJiDgCiUL/dAZqHY++tDmc31jfly8iMXuLSSftoiaWEWJw4DFP5sYCFYN0geI9vikI94NPDdjjvu2MRVjbKgTEg79/ChHClPV3b55Cb57LfvSsBMBPWUQEu0cVz+4lAWvsynDmGI+G0NnJygjTNAUQhmlCgHB/WEWTfuT9lTh9gLjrZUCsgqjOannnrKljX35F18Ocg75HP1dpRSp0aPHm1n1eIGHR4fGKUcce+PLELbZ5bPx2+jHNR58sWtry1WVpXyDCGEqDqhstHAmDFjgu222y6YeeaZG4527doFbdu2bXTuqKOOCsaNGxf9Kplbbrml0W9CgReEgjD6dhJhhx+EwrThmj333DP49ddf7XdDhw4NQuHa6B6hULXfQajcB6Ei3uh7nlkMw4YNC8JOqtE9QqEefZubUKlr9BuO0FCIvg3sPfzvyFPy1ifslIPQUGh0HZ85nwT396/l8J/pCJXKRuXF+4VKafTtJMIOJ9hoo40arunUqVPw7bffRt8mv99qq60WhMpp8PfffwehAhiECoCtA9V6XmjMBBMmTIiuCIIXXnihUV3hoPypBzB+/PggVM4afR8aCcFtt91mv/Mh3WGHHPz111/2czl1NanN+Okqh6R7pzlonz///HN0l0mU2x4hKT2UXRzqx7nnntvoul69etm6A367o175z/Tbn18vVllllWDIkCH2POV30EEHNXzHwfP8+kIaLr/88kbXhApr9G35+ZGUF6EyHwwaNMh+D6Qnng8czz33XHRFemgvu+22W5N7xY9DDjnEts048TaWJJMgV53j2ZTbf//9Z98rNG5tHU+6Pi5Dk+Qs8sCXE5TpYYcd1ugav8yB8vO/R+6ERpRNk2PUqFHBLrvs0ug6jlz1iqNz5872fcoF2c1zkvIfeBfeyT23Y8eOwRdffBF9W7k6RT8Z//6CCy5oJAf5m3Px65LacyHi/R1lTZmnIV4Wfh+YVG/69etnvytEUl4mvVs5zxBCiGpRcObsf//7n11H5IOLI6NP4e+jM43B/ZDZAh9cc+IRxFh0Gyo/0adJI+W4MkFoFDZxbQw7qYY1KYyovvnmm/ZvYKR+nXXWiT61TigPZpP8keX111/fLLbYYtGnSbCOxV+7w4wTQSXyQQAA1j0wc8GMKXsZEXCiGs9jQT5rIvxAM8yaxGcPcGdz9QFXJVx5fAg1z33iI564/BHMZrrppiu7rpIf8TWOuICyDozZoUq7mxEEhlFcdzDzEI8gyqwRLmOhkmM/V6I9FgP1Ix490g/tj6uVczujjfuzHcxa4MpGmv1ZNNq32wOQ8/6ef8waki9+fSEN8VkUnst9q5UfBILxZRDpIV3xTXWZ2SgWyhiXVWZbQmUyOtuU2267Led6rVIh75mRJi+IEMl7hYZRWe7jbDy89NJLR58mtUlmwHzIbydbKLO4GzNrxpBJftRK1kAzOx7fWsIn3l7pV/gNa414TqkgD6kDyEZkMS667HXJfWmTrNvz11TideDaRC6KrVM8N742ivoSl4P8zQxRfHYpS1CGcS8VZB5eCMiAXPpHMdTiGUIIUSwFjbNZZ53VRlvzFUA6THy0c63riStWEI/gxkHnTMfoIHAAQQCAzoPO1+9kcW0cM2aM/RvF119vRlCAXBs4V5Kkd0MJZP1PczN+/PgmyiPuOigLfr6jdOK241PIWOKIU63nYZjHO0xcoPLlMfXCKfxAvUHx9xX2JMqtqzxnvfXWi85OgvbBZrwYKNRLXM/8yGDlwD1Zt+cOjDACBmBs+jCA4gYvKtEei2WZZZZpVGd4PgYDhpdvGBEBlWsdKOTjxo1rEgxkhRVWMDPPPLP9m7z0ZQ+uSQwKxN8nPqhEnSOQRbXyg70e4wYLrlOVClCETCTAA+6VuLIhl3356GDgjGAWlVIsMQZok5XEN8wc+dp3Upnh9k05xWEwKD5A5IOxE38+62UJ9kRdZCCK/qWU/CMwFIo9Rg8bLGPYcl/WweHK6bsa+sZnLoqtU0kymf6JPIlDe6J/zyoY2vGBCAbkGCjA5RTDPI1raD5q8QwhhCiWgsYZrLLKKk1CyNN5EZwgaYQWRbmUkVs6KpQ3Bx2lPwKPosToKZ0miqffsTHyHZ8hqQb4oPvrFYBR5KTOr9agwDBSWwp+vsdh42OnGPtU63mljMjHjT2UszRrAytRV3faaSdz8sknJyrKGBGsP2ENZXxmr1Jg/KKo+5A+1vtBpdpjMdAeVlpppejTpHygjDC8UEqBgEIojv7sFLNbGFsomC6YAfmK8eXWuDJLWgqsc2Qms1r5Uc1ARD7MFKE4XnDBBXZtDOt/4xAZ9Ndff40+lQcDc5V+t2Lvh1FMufnEZ4zTQr9CwCG/3jlQzAl+wsAOAyzUmbTQJzLThWKfKxBHsRSbTww+xGUhBgheAvUG787WLaxxT4K676IAl5rftXiGEEIUSyrjDKVo1113bbIYmRFaAkXEOzCUqbhivPLKK9sF9oUOvxNJCgyCsKST9l036EhXW2216FP14D2J3EYn7MOeM2kMgWqT5GKHApKUz/GD0dhc4HKUpCRU63mlEB91x80HQ6AQlairuDMRjIAgEoSxjwcvATp23GVKNSwKkbSnmWuXlWqPxUDdiEc1Jaog7+9mOFGSmWWl7To3LYw4XCAx4DDSgPuw35AjXud4P0a/k9LvH8xkYNg0R35UC/ZzImAHxqsPAU9KcZ9Mgvxqbpg5jw+++YNzxUB/xowtM84YuHH3V+De7HmVK2JsHGZWCFbiB07BbZA+khlgBhsY2EsKfFJJqN9xWcBsWqmDLM0NspT6TRAXdJCkushgKR4Epc7y1+IZQghRDKmMM0CZYe+W+GglQi0eEhjFOz6TxOguUfiIRpjvYJbOQSdKZ+a7oDAbwHoT3zUK17H4epFKw4g7awbogH3ID9wvix3hrAYoxPF8x7UMF7ekvPaPuFtcGmr9vHzQwfrrMFDsCZVeyDWpknWVeopChyGGUody5kMHn2sz9XJhFjMXlXrHYmF2xw+pj5JK+3UzZxhnKJK0XX8WgzzChdDBDJyf/nhZA7MVSen3D0LvI8eaKz9KARfOESNGRJ+SIT/yufG1BCizuNL8ySefJG4SzbpF38U5FwzoMOPMjDYu80TwIy8dGGjIkPh+iElQt32PCow/+kbkoVufmzT7V2mS3L+HDRtm17fFwcUSgzHrYHCyvQ5reRm4oR+OG7msfS7nXWrxDCGESEtq4wyS3BvpwBhR8meT6EiTfPrpJIolHhgERQUlyY2qo6QhRJ3LU6XBKGPEnxkRXB/io7X7779/o7DhzQnGEuswfBgddu5tlabWz8sHMwjxIBS4JxHOOh6UAyUJRZwR5XLrKvdiPZ2/JoF8YV2L23DWp9TR/nwwS8K6tjiuXlaqPbJ+L+7eiiHq703mEw+pjzLtXDtRtJlxBgwl3wWS62hzDj+EPtDm/XpHnhazLqSS8qnaoMwzmt+3b1+rGMbrMrOjBJxwe905cHX1Zxjjhg33iodazzKkH2Peh36Ad/cHYJiZvemmm6JPybBHnD+DjWKO/GCt2UEHHRSdnQSDHmlmnaiDbtABMMb8ATvSyCCmH8imGvDcuLsm3h6sU/TrDu6b/fr1a5TmrEEdJe2+AY4XB940DIL5M57oA8hzR1pZVc4zhBCiWhRlnOVyb8SVA+XQKUd0Sswm+bNsXLPbbruZiy++2K4dwy+e0Uo6V/ZyIepcUtCEeGAQ3J5uvfVW+zew1iyuaJUDo+v4l3MQPQxXKKIExjfhBoy1Aw88sGDQiVpCfvhRDVHAdt99d7sxMW53rBHDkKYMiP6Gv305HXStn5cLZkSol74SSlpYD0ZZ0tFS99i0mJlW1uSgMJVbV1F4BgwYYO+Bkca1fMf/7J/DKKyDtJUbtIb7kiYOlArWuqFI4D7lg5ubm+WpVHvEQIq7FA4cONBGB+Q+7DXlu/2gHBHIw4Fy5Ax331WR+/oKJbMVHMDMGzNwPsy0xSP7EQ2PekcZsLkwgzjMZDCDiTvppZdeGl1ZWflUCyZMmGDOPvtsa8AyAOHkEwfr9oioGze0cMH0gz3EZxppg0QopF1Qhyq9IXOloY4ga/z2jbLcrVs3uyaIcuM9CODABtf54N2Z0cLgZRCAciWQBzLB3zcTMHLTuLJSp/y00TbJW4wxDsqPmblagIuvX7cBo5OIjbhxnnnmmbb+33zzzdG3lYVZb2SCX0/9g+/SuAdS7ykj0o1xyTpRyoo+hb0l/fXODAL5s+FpZVU5zxBCiKoRKqgNjEm5N0jYkdv9V/zrOG666Sa7vxCwHwt7VcWvyXXwXJ6fxNixY3Pu8VPs3mY+wxL2OEl7JO0l5Yjv+5L0bqEhW5V9zsj/sBNqtPdYvoP3Jx98KHP/mnzpqtXz0uQXeyUdd9xxja7Jdfi/LaeuJrWZXMcBBxwQ/Pbbb/Z3aSjm3v5B2wwNjOguk6hUe4zvD+YfSb9h/6Wka/19z2Dw4MFN9rHj6N69e/D7779HV01mVI79rHIdcTlWbn4klY2/l5YjScYkXZeLUmQU+UL++CTtG+kfTpakfS9HmuuT3iFJdhWScbRv5G78mvix3nrrNalLfpri8ibXQX6xN1kaRowYEXTp0iXxPu5ISpf/fpWqU2nrNveI9+NJ/X0heLZ/j0KH35byyf5i6n7v3r3te/ukkVXlPkMIIapBUTNnDkbkCYAQBx97N/LIbBKjVGEn0ciPvxSYFSGEdBzCFW+wwQbRp9pA8ILbb7/djoqW+17VgNlN1jrhOx93b6kGtX5ePnBHYe0RUUT9UexCVLKu5oKRWWYTw04+OlMdqJ/M9DA76FOpd2TEfccdd4w+FYb97ZjdiRN3VYyvO3MQqCOpLIlAxyz3nnvuGZ0pjlqUea0hn5jJp/zJHx9Csu+9995FtYusQfvG9TDuueHDd8xSxWdNioVZEupXUrCQJJiZpE+Mz1g5WGNbiXSlgbpNPcAVPxd4OxDan3pR7+ANwcF7+xQrq/KR6xlCCFENSjLOUMgRerg4+uBag/uQC1ONIGNNFi5DnMcVyVeEULxQ7K+44grrFplvnxuMsPiGmXyOu+tUGtLLmraTTjrJujgR0Yl9a7IspCkfAhyQXlwJd9hhh0ZKA0rw1ltvbd05cNf0N4guhVo/Lx+suUDpZqsFjCHfFcqVJecJb8+1jlLrKgMHbDhN/eDe7jc8s0OHDnZ/I+rMNddcU7WgNeQvLn2su8I1h7ZCmcSpRHskuAF72WHU+Pu7uWiHfp4C18cV3CRXxfi6MyAP3bq0JLg3CjTui8cdd1yjNYcu/3E9Zm0SbolxKimfqgVlS/ppV7wL7+QbWH7bIh9Y5+i/gwO3O1yKcfvEgHHX0E732msvu11GPYDRSVncdtttNuiGywvaOWuoWGdKO/PXV4FvFGHQE9iJsiX/HJQ37eiWW26xa2cxYJLaUS4YECF/yU8n/+ijaCukrdp9lQ+GLNsF4FrtlzfvyADWnXfemXnDDBdw6jUy1K/3vIvrkwkMhvz124Qjjawq9xlCCFEN2jB9Fv2daYjARafnAo8gKOlg6JSFEEIIYK2rvwE5RhHrjWodaVMIIYQohZJmzmoN9iOLvP2IkIySx6N3CSGEaL38+eefNhKrD0FpcrkbCiGEEFmjLoyzYcOGmfvuuy/6NAlcNarlJiaEECJ7EAafQbokhw/C3uOeGo9CiAtbc7ikCiGEEKWQSbdGfLzvuOMOG2qbzTMJaUsYbgdhwll3QJhjIYQQrQMCMRHwB3d21gi6tYuEqx8wYIDdasVHfYUQQoh6I5PGGQvbN9tss+hTY3BPITKgv8BXCCFEy8cZZ2kg4iJ7Wq211lrRGSGEECL71IVbowPDjAhU8TDhQgghhINIwkSGlWEmhBCi3qiLmTPCHbPGjGiNhL4VQgjR+hg+fLjdLoLtKYYMGWK3bwEG7pZddlnrUbHlllvaPmOKKepq7FEIIYSw1E0ofSGEEEIIIYRoyWhoUQghhBBCCCEygIwzIYQQQgghhMgAMs6EEEIIIYQQIgPIOBNCCCGEEEKIDCDjTAghhBBCCCEygIwzIYQQQgghhMgAMs6EEEIIIYQQIgPIOBNCCCGEEEKIDCDjTAghhBBCCCEygIwzIYQQQgghhMgAMs6EEEIIIYQQIgPIOBNCCCGEEEKIDCDjTAghhBBCCCEygIwzIYQQQgghhMgAMs6EEEIIIYQQIgPIOBNCCCGEEEKIDNAmCIn+bsLPP/9sfvrpJ/Pbb7+Zv//+2+S5VAghhBBCCCFEkbRp08ZMO+20ZpZZZkk2zv744w/z1VdfmfHjx9uLpptuOjPVVFPZHwqRJb788kvTrl276JMQQohKIhkrhBDV57///jMTJkww//zzT1O3RmbL3n//fTPNNNOYBRZYwMw888xm6qmnlmEmhBBCCCGEEBVmyimntJNhTIo1Ms6YMfv444/NvPPOa40yIYQQQgghhBC1oZFxhivjXHPNZWaYYYbojBBCCCGEEEKIWtBgnOHOyBozzZgJIYQQQgghRO1pMM6IyoifoxBCCCGEEEKI2tNgnBEun4VoQgghhBBCCCFqT4Nxxj5mhMsXQgghhBBCCFF7GowztjtTuHwhhBBCCCGEaB4ajDMhhBBCCCGEEM2HjDMhhBBCCCGEyAAyzoQQQgghhBAiA8g4E0IIIYQQQogMIONMCCGEEEIIITKAjDMhhBBCCCGEyAAyzoQQQgghhBAiA8g4E0IIIYQQQogMIONMiGZg/Pjx5oEHHjC33367+fXXX6OzQggh4N9//zXPPPOMueGGG8yIESOis0II0fKpiXH222+/mcMOO8wss8wyZueddzbff/999I0Q2eSHH34wl156qfnf//5n6y3HlltuaU455RQzfPjw6KrS+fTTT82ZZ55p+vTpY1555ZXorBBCtGwYmDrttNOsTH344Yejs01Bzl599dXmggsuMA899FB0VgghWj41Mc4++ugj8+qrr9q/P/jgAzN48GD7d73z3Xff2VG9iy++2HY4ov4JgsA8+uijZocddrCKwfvvvx99Y8xXX31l7r77bjNy5Ej7+b///jPvvPOONbCeeOIJey4tCyywgOnYsaNZbbXVzLLLLhudFUIIAXPPPbdZffXVzWKLLWblZLGofxZC1CtVN85QYN966y0zbtw4s9dee9lzGGp//fWX/bueee+99+yo3i+//BKdEfXO559/bq666irrasis2dNPP20+/PBDM3ToUFtvzz77bDPttNPaaydMmGBHdHFN5O9imGuuucwll1xi7rzzTqt8CCGEmMz0009vTjzxRPP444+bNddcMzqbHvXPQoh6perG2ahRo8xrr71mVl11VbPFFluYtdZay7z77rvm22+/ja4QIjt88skn5osvvrD19NBDDzULLbSQmWqqqcwUU0xh5phjDjujtvzyy0dXCyGEEEIIUTmqbpwx64Ab40orrWSWW245a6R988035vXXX4+uaMzPP/9sbrrpJrs2DZ/0tdde2xxxxBHWpczBzAbf4bfODMdtt91m1wNxrlu3bub55583EydOjK6eDIuK+/bt23Atz7jrrrsSZ/E498gjj5ju3btb1woO/n777bdtWrbbbjtz7LHH2msHDBhgVlllFXtPDE9R/+AG888//0SfmsJaCcqcsgfqAuW///7725FaDv7mHLNrtIE99tjD7LjjjnZgwtWheJ3x6/bYsWPNrbfeausr9Y928PHHH0dXToZ04orp2gz/85k2xmee47cfIYTIOr4M9dem0be/+eab5vjjj7f6Ad8zaIYXAh4M6p+FEPVOVY0zlEZcGgEhOt1009n/ASOHQCE+P/30kw24cO6559q/O3ToYJZcckkzaNAgq6jG+eOPP6yb2VlnnWWmnnpqM+OMM9pZumOOOcY89thjdv2QAxeHgw8+2Nx8881mlllmsffmGb179zbnn39+IwON8yeccIK9D89m5mS++eazf2Pg8RlXNIxNmH/++e391l133QaXN1Gf0IEvvvjidm0kaxUIDJLEDDPMYMucsgfqAuXftm1bO8vmQ/AP6hl1HjdfjkIw6HDOOeeYK6+80t4Pt2DWtRFExE8T9RbXnaOPPtqmmfTQVvhMQBMhhGgp0KfTt9OXP/jgg2bRRRe1chc5iJxFtqp/FkLUO1U1zpghY50Os2UovbDEEktYlzHOs77H59lnn7XHVlttZcOM33jjjXY9D3+zRicOswMIW+7F7MTLL79sevToYRVZZhycEjtmzBhz3XXXWWMQ46x///723gMHDjSbbLKJHXHD8AJmTAgEgSLMImSuweDjWaw/mnfeea2rG4o7s3RAYAdmPPr16yeXtzqH+knHj6HvAoMwABA30qg3lDllD9QFyh/jCePfh/q222672QEC6nKaNWbUv4UXXti88MILNh3cA6ORkV/qo4O6f++991oF5Nprr7Whp5966imruKQxAoUQol4YPXq07ZPp45F3yEXkLvIOWd2mTRv1z0KIuqeqxhmR7li/g0sjkZdgzjnntMYawhVjylcgXUQlZgr82QeELYpqnDXWWMMccsghdi0QsIC4a9eu9jyzCMOGDbPniaj33HPPmW222cYuLEaAAwbfZpttZv/mGlwiSC/KLcoui5FJu0sL6cCwFC0X6gaDA8xYrbjiinYGC0Ofjv+WW25JdIEtBHWMusfMcVoY6SUgCXUaUCrWW289+zfRIhlBpr289NJLti1xLd9TV3mHpZde2roECSFES4G9z1zwJeSc68unmWYas/LKK2tmTAjRIqiacYbLoZuNwpURt0OYcsopG1wbmUlgjZmDdTUYRfiXH3TQQXbNF/fJBTMJs802W/RpEnzmPKC0osQ6I42RNpRcZvHcgd86oOhiKH755Zd2dA4jTlH0Wid0+O3btzd33HGHrTMY+87NMO4CmwbWOzgjKy0MBMw888zRJ2Pbz6yzzmr/pn7+/fffts66GT1meWlbPswCLrXUUtEnIYSobxhQRZ4Ca8rwaqB/T1pjLoQQ9UrVjDMW5brFt8xu+QbRvvvua8/jkjVkyBD7N2A4IWyZsWB9Dmu+unTpYoN25AvOkA+UWJRZWH/99e1anKSDGTGUW/ZGAWY54squaF0wGrvBBhtYF1j2MsPVERdY3AyLgfVp1YC1ZayPhKS6ipHpz0ALIUQ9g0xm4JbgXMyi4dWAjtCzZ087sCqEEC2BqmhuzFbhsuiMonywfsYZXm7GAmMMJXjbbbe1MxYEU2BNWRqY/XLukcCMg5tdw0URVy8Ee/zAlc0FFQGNxAkHCgHRv3bddVf7mQEFv441F7jw5JuR+/PPP+16SyGEaCngQcCAKssPCCCGdwDrwRlAS6NzCCFE1qmKccZovovSeNlll9m9o+IHsxHAdfFgC0Rbwk0LNzKCM0CSQoxLZHxGbfjw4TZ8P2vc2rVrZ2cUcJUEojn9/vvv9u9cEB0SeF48XbmQIdfyYeAg30xqc9QBAo/MM8889m/WWPrRSfn7o48+krIihGiRsH599913N5dffrkdeMUTx3m++Kh/FkLUG1UxzojCSDAQXBidsRPHRW3EUCMYByBc/TVoCFW3+DfJzZDRMt/lkd/edtttNqgHwREwzgBDj3VoXH/DDTfYtWgO1rSxD4rbFHuFFVawm2WTrvPOO89GnETR5eBv9ldxuPRg9LHZtqh/CBxD5C+CbuA2A9QRXBndXjusRWTWyjfYMI5qPZvGLC/BdQD3njfeeMPWU9oNbYrZZyGEaCmwlQ3LJXyDCzmNDsCArB8QRP2zEKJeqbhxhjFF+G8MIKInse9TEi5qI6BIEmSBACGbbrqp3ax3v/32s5vpslcTM1+bb755Q1ARB4FFXnnlFWtMEaqc3xJmF6Nwn332aXD58sOjE1J/4403Nnvvvbd9DmuKMPBc1EhmIw477DA7Evfiiy/a5xI2nYh7/O0LeQxPtycW0fzwfdcml/UN9ZYgMRtuuKE11KlLBAQ57rjj7KwsdW3rrbe2hhmKgNtLh+AhnTt3tls5sHlqLSANpIX6Sdqo89TTTp062fRutNFG0ZVCCJE93Ob98SNXP8oA2BlnnGGXIaAj0I/T9zOYiuxzwcBA/bMQol6puHGG8TJ48GD7N4E9coUPZ1TLRW1kfRqLeYnCxJ4kn332mTW6MNhQOJkNY/YrDhtQsh6NWTJmy3CHxKAjDDqhxB0osQhzFGiENDDLwHocFOrTTz/dLLLIIvY8INCvueYac9RRR1nlG8WXe5MWDE4HRh8+7yjvKPUYpgrlW99QvocffritUy46IoMDW265pXWfYTbV33MP44gtF7iGekL51zIIB2lhbzUWyZMGZo8ZWLjiiisa9mATQoiWwOyzz24HYRl4RUdgCQPyjkFcBtV8fUP9sxCiXmkT4AcVgoHk3ACzDhtKspaNvZ1OOOGEovaPEi0LjPp6qbe1BjdhIqNiaF5wwQVNtp0QQohCSMYKIURtqd0QvxCiZrAOw62PZCbYRSEVQgghhBDZRcaZEHUMERlx1/3tt9+iM8a6AxMgBHdgjDL294uv1xRCCCGEENlDxpkQdQybrLPmjMinrKfE1ZdAO6yNAzaAd2s7hRBCCCFEtpFxJkQdwwasLHpfZ5117FYPbGFBqP+ddtrJ9OvXz3Tr1s0GsxFCCCGEENmnLgOCCOHQYnUhhKgekrFCCFFbNHMmhBBCCCGEEBlAxpkQQgghhBBCZAAZZ0IIIYQQQgiRAWScCSGEEEIIIUQGkHEmhBBCCCGEEBlAxpkQQgghhBBCZAAZZ0IIIYQQQgiRAWScCSGEEEIIIUQGkHEmhBBCCCGEEBmgTRDCHy+//LI9IYQQQgghhBCi9jQYZ8OGDTNLLbWUPSlEvaB6K4QQ1UMyVgghaovcGoUQQgghhBAiA8g4E0IIIYQQQogMIONMCCGEEEIIITKAjDMhhBBCCCGEyAAyzoQQQgghhBAiA8g4E0IIIYQQQogMIONMCCGEEEIIITKAjDMhhBBCCCGEyAAyzoQQQgghhBAiA8g4E0IIIYQQQogMIONMCCGEEEIIITKAjDMhhBBCCCGEyAAyzoQQQgghhBAiA8g4E0IIIYQQQogMIONMCCGEEEIIITKAjDMhhBBCCCGEyAAyzqrE33//bR588EHTpUsXM8sss5hdd93V/PLLL9G3QtSen376yXTr1s306tXL/PXXX9HZlsPrr79u29rAgQOjM7WDZ6677rrms88+i84IIUQ2yIrsb04Z3VoZO3asOfPMM83yyy9vNtlkE/PVV19F34gsU3HjDOUEJYUGWOg44ogjWqSS+N9//5lrrrnG7LnnnuaFF14wSy65pJlyyinNxIkToytEPUB5DR061Jx44ommY8eOjeoun997773oSiFELaHfOOaYY8wZZ5xh/v333+hs8/Pjjz+a3Xff3dx9990mCILorMiFZKwQ1ePPP/80p512mnniiSfMCSecYA444ACri4rso5mzKjB8+HDzyCOP2L8x0t566y1z++23mznmmMOeE9nnjz/+sIpf+/btzZNPPmk23HBD07t3b3sce+yxZvbZZzf//PNPdHX1GTJkiBWs1KVSmWuuucxNN91k+vbta6affvrorBCTYWDpnnvuMYcffrj5+eefo7PZ49FHH7UDgfvvv7+Zaqqp7LlKtJG05MqneeaZxxx22GHm+uuvN8OGDYvOiiSyJmOzynfffWfz4/7774/OFI9kf+3IkgxFBmGYHX/88WaPPfYw//vf/8zCCy8cfVs/1Eu/VEkqbpwxS/TKK6+Y3377zR6jRo0y++67r/3uhhtuaDjPcckll7RIQTF+/Hg7YrHiiiuaNddc00wxhWzgesKNNjH6jZL16quvWreAI4880h6nnHKKeeihh8xaa60V/aL6fPzxx6Z///5WSAlRLVCGX375ZasQZhUGv26++Waz3377mfnnnz86W9s2ki+f1lhjDbPeeuuZW2+91bq3i6ZkUcZmlR9++MFce+21ZsKECdEZkWWyJEPRRUeOHGkHjeqZeuiXKo2sBiE8cEW65ZZb7GgTHSIjTdNOO230rRCiuXnmmWesa05WFXdm8rbaaisrQz788MPorHBIxgohRH6azThjdBP3BXzLDz74YDuS5sNnzvO9Wzx67rnn2s+sVWORIy6Dq6++uj1H4I3HH388cV3X999/b33a3bUbb7yxncWLPzMfLKi96KKLGvziF1lkEbP33nubl156qeGZTLduv/329jm42HC4Z5J2kX0YpXz44YetwoC7TTHE6wgLcHv27NkkSATrZajDrh7369fPrLPOOg31+MUXX2xYr+LWcOK+BZtttpm9jnrmpvdd8JkddtjBziRwUDc/+OAD+73D1U9/rac7R/0kLRdccIFNd657kK4333zTzobTBriO5zLynQbaCm2Ge/N73qVz587mzjvvbLL+1C0e5/+PPvrIHHjggfZ5pI9RdtKbC+TLWWedlTNIB3l23HHH2fVBaQL1fPvtt41kCP9ffvnliW5XjPDttttuNq1ch5yKv1uxZebKh9kGrr333nvt92nv40DmIfvIc96DMjjooIPMiBEjrJydd955zY033mieffZZs+iii9prfNnlys+9H7/H1YT88fHLjrTsvPPOZv311zdffvml/Z7n4dLm8pM2wwxKUn764ApH/m666aY2rZCmjYBrn+6Z9AO4yrjZLf4/6aSTEuvM4MGDbb1jxm7AgAEF82nppZe2z3nttde09ixGqTI2qe5S9+jffcqRG3EoO/rxHj162N9zX+oqdcAnrewHP3gQdZm2wW/issK1feozUL+5zq+fSelz9dpfi5kk+/k/bT9UiLRyIR9cy7oo9x6k4fnnn2+k0/nyEK8s2ivP4jfUDdow7+W/CzI+lzws9pmF+sg0MrRU2Qdp+08nE13dcTLRL/8kSu2XcuVJJfrhXHl6zjnnFHVvP83IkquvvrqhDCh3ZuqT1i8X6jeqRbMZZ4x8brDBBmammWayBYnA9vnmm2/M22+/bV1E1l577ejsJHCJJOoQGT/NNNPYexB4AzcXlBZfoKBI0glcccUVZrbZZjMbbbSRbdRHHXWUdZ1IY6Dhprn55pub008/3bz//vu2EuJigA/4LrvsYpU0ChX3xQUXXNB06NDBpomDvylMni2yD42cRegIM7eWJQ3UYTpZ3HTooFgTg3sO9WW77baznXAcGveVV15pR9epW3TM1O1DDjmkYSF827ZtreCjAwGEBPfGUJhxxhntOYQpHeEqq6xi7rjjDnPVVVdZgYIg/uKLL+w1hfj111/N2WefbdsDbYVOj3QRdMHvYGlfRB6dddZZzXXXXWdHvmeeeeYmClISvO/5559v28x0001nf09+ocjynJNPPjmxPaJgoVThIsz7bbnlllawki+5BCTyZYsttjCjR4+2inUcXD2QL7TrfG0TWYLQ5pnvvvuuOfroo23+H3roobYzjbvQ0bGTj1tvvbVd47HyyitbOcW7+tcWW2bIG+TMxRdfbA0Ud69i7sNn6ib3QPbyXpT13HPPbTtslJkHHnjAph25iwLKu1J/gbyg/FESF1poIfs8OjpcTfbZZx/z6aef2ut83MAYsySkmYN00GFSLqyl4R0wtj755JMm+RkHxYb6sOqqq5o2bdrYc2naCIE6WAv21FNP2TLkmaxx4m/yDPnN7M1ee+1lrydvXFrIG2Z6yBPyApmeL58A2U/Z0//8/vvv0VkBpcpY6j/tnrpC+aCYvfPOO3Y9DXU+Tilyw4c6gdKMjKD+8Dyei/xDXjpKkf2ArED+owjzWycrGACgrVF3qcPUZ6B+c2/ST52Hzz//3A6uUMdYT0a9RhYgE6ijaUjTD+WjFLkQh2u4FtlAPpMfiy++uL1nXKcD5Ar6G8YAshUdEZ2Odkp7xoDhXfj766+/btKPQbHPTNNHFpKh5ci+YvpPJxNd3XEykUFVdOZcFNOfQKE8qUQ/nCtPaTel3Js0n3rqqbZuk3bek/WtrMmjHfjlkKbfqBphBbSEFTX6q7KEhRb07NkzCBW4IMzU6OwkQos7CIVZ4nd85nxohAVhpbTnQuFjz3GEGRaEhWLPjxs3Lggz2Z4Pja8gbIz2fJixQWiYBcstt1wQGm/BxIkT7fnQOAvCCm6vDzPbnstFaDQGW221lb32tNNOs2mG8ePHB6EgCMJGECy55JJBKIDteRg2bFgQduD24G9RPSpdb0MBE3Tq1CkIBUt0pjDUiVCps3WKuuVDHe3WrVvQpUuXIFQs7Tm/TYRCMwgVb3sehgwZEoQCKOjTp08QNvzo7OT28Nprr0VnJhN28sFXX30VfZqEuw/v4xgzZkwQdhL22aTBP0c9HjhwYEMbgWeffdaep55DqAAE3bt3D3r06NHwewiFWRB25tGn3DzyyCNBu3btmjyHv0Olp9GzgHd1bTrsvKKzgc2v3r172/cbOnRodHby9U6WOPniv6+Da9K0T5ePYcdv5UwuXPnE6wD5csABBwSdO3cOhg8fHp0tvsy23XbbIFTUGuqQI+19XDrieRnH1U2eybN9QuM0WGuttYLnnnuuUfmFnWDQtWvXRrLalQV1PzRSG+V/v379gvbt2zdpu9Qvv84ngZzt2LFjECoK0ZnJ5GojyGryjnrLMxy8Q//+/a38Djv3hnOkl/wjH4F2ECor9v0d+fLJkS+t9UQWZCwgI1yf73AyKlTWojPFy41cuHvHZbRPsbIfCsmK+PVxueZD23/xxRetDHa4++y5555BqIjac0my39Vh7p22H0qiFLngv4vLQ/Q72qqD9IRGXqO64t6DNotO53DvzL35n88OV47lPpN7FOojIZ9sKEf2Fdt/gsvvuEzMRbH9Upo8qUQ/nCtPi7m3SzP5ERpkjdoMdSA05hvJhmL6jWrQrGvOGH3HKgYsXzety0glblKMPmL1xi39MMPtaBkRiGCGGWawI56cx1JmxAzCCmkee+wxO6rFAm030sriSKYxgWvyTScz6sUoDFPHjJY7C5xRVmbksLax0FkHERa2/U7UL8xKUO/ciHsaGIGhnuA+E194Sx2lbhJBjoAFPrgzhB10o9FjpuyZFaBOpXFzAEZy+J0PI4rM4vI+aWBUipFl10Zg2WWXtWlhVjuUFdHZSe0z7MSiT8bOGIcCL/qUTCg4bQRTRstZj+M/h7/ZfyU0QGw+xtNMG2N00EF+kXdhB2ddFXJBW0V+kPf+zB5pYdQad4h8kat4Z+QH78ZoInKmEIyq+3WA31I+pDMU8NHZ4sssVDZsJML55psvOjOJtPdBJuJKxgion5dpQbaRF8hrXNH88sPlhHQQEp10+lD/yZN44Kew42viXkO7KxTmmbo455xz5p3tjIMrZag42hFrnuHgHegzcA9ybZNzYQdulltuOXPXXXfZ5+EixQj7SiutZK9JC/0b+RbPk9ZOKTIWttlmm4Y+38FMzWKLLZbYZkqVG0DdZJYMT5vQwMo5w1eq7Afac1xWMAPEaH3aOkPbx13YDzrGfUIl3sqbNCP75fRDpcoFH/IwNAjsTIi/9pD00F/gRcUsjA/3xc3M4fIOeBc+O1w/xjMcpTyzmD4yH6XIvnL6z2Iotl9Kkyfl9sP5KOXeyBH0eb/NUAd23HFH216oG1BMv1ENmtU4c5UKAYpRNWrUKHueTCazaexEPIyzzDLLNAlLz2fOA5WISuGMtAsvvNBOW+Iv6g6EKdBIchlV3MNN5eJyEO8YKNDQ0rZ/UxHjDU7UJxMnTmzkc14I6hmdIS4RSSAcllhiCdtJ+fCbuJKJgMYIoA0UU5+Y2qeTxJ0E1xpcJZ599lnrBpbmPig4cWWJ+s3ACO2SDoXvuS/PQclnTUeazh/GjBljXXBWWGGFRCOHc+QRHebY2JqQJGPCKfu0u3zg0oRy4bs90PEigBHQfsccZ9y4cTbNdDQoGoXA3dnJIB/KlDoSVwiLKTMMg7jy50hzH+oe+Uv+lwJ5gVKL3z954ctSDlyucH+Jlx3yMZ7HdJjI4549e1q3HN9orQbUKfIfxSaebsrsjTfeaKSI0SZx/2HADdco6g8KXyHDMY57b9qOaEyxMhboj5GL1BncFbt27WoN6SFDhjRSvB3lyA3WqOB+udpqq+UdCChV9lPvFlhggejTZFACk2RFPmjjyGJcslinj06Fmx5GHnK3EOX0Q6XKBR/eF3ns1vT4B4YnBmK8vJL6K/IuKV9dP+ZTqWfG+8hClCr7yuk/i6WYfiltnpTTDxei2HsvtdRSjYx3B0YohqnrC4rtNypNsxpngPVJB86LUvmATEbgslar1L3BqBTO2CNz3f4p8YMZtVydrn8PrGx/dCAOFTrfCJOoDxA2NDiEc1oKjQTT8THaHx95KlbZSwLjCN9zBg/wwadDpgPAp9oNHKShUP0Gvmd0CR9twpnTrjp16mRHmAsZabQlRrNY35QLRsG5Jt7JlZNPKB6MfjOKxr2B2XIMnSRDyof2TLvmWnz8C5EmD6GUMmvbtm2T2adi7sN7FDvj5MOzUCSYQcLfP+nw18I4kkZEUZpZV8PsFEoKCsd5551XtlKRC9odyjMBA5LSzYGS78PIKHV7wIABVkFJY5yLdJQiY2m7GGTUmcsuu8y2TUbMWWeTyzAqR25QZzDQkEn5KFX2p5UVhWBNI/UULx7+Ji8YOKOdpqWcfCpVLviQN8gr2lrS7zmch5UjV/6lzddKPrMYSpV95fSfaSmlX0qbJ+X0w4Uo9t705WnqPHWk2H6jkjS7cYbFz7Qo4D5IhuDSiPuO74pYCGa/XMEAljsjFMDoCALL7aHiH4y+xUdVHP49GOXLN23NtG9L3LOttcGoCqOBzOTmK28fXCGot/wuCc7zfT7BWiosOqfz42C2mVli3G9xVcGtqtIgjBGEjKwxs4BgxH2IhfP58gthyIGRkAu+Q5nxXQjKhVEzXDUoT0bTKAdGmRkNLKRw866ULUpaJQdeKlVmxdynUB0thMuLqaee2o5U8oz4gTKTtuww2lhQjULJaD+j/sjoXBG7yoF6xyAbRkFSujnisywsaqd+o6iwGL2UdLGAn3pTjvLbEilFxlIWt99+u12Qj56Aoda9e3erNCbNJJRLGnkFzSn7qZOXXnqpnd1jhP+WW26xgRhw20qalasGlZAL/B7DgDaY9HuOQkZysTTHMx2lyL409bHc/rOaukQ5/XAhKnVv11apG0B+F9tvVJJmN87ANWqiodEpEv2IqXmEeBJUQjo+HyIDMeOGUcfvyFjXuLinH10pLdyDggEqbjwiFGmgQgDPSjO6LrINjY2p8FtvvdXurp8GfKzpHJOiGQHn8V/GkCkV6mIS3JuOnzZER+lwgqZa8Cz2mbriiivsqCm+2fnaGC7BuAzQFv1BFAfn+I6Oq9JGJcoLLgt0OMzOU1YI80IDP85VBJekYtyMClGpMivmPoXqqIM8SaprLi+IKlbJGS4GtVg/zOjx008/nRgS2QelExefJEUmVxth9BOFBW+MNHDvSy65xM5IEN2POoOB5hsSufLJh/bAgB0zJ2IypchY1nbgSoSx7Ldb6nohA6oUCskrR61kf5LCzXsTiRDdyf+eAYFSBhNKoRJygTzEBQ3FulZU85lpZAMUI/tq0X9Wql/KRan9MBTK02LuzXsmvQ/n+R33gmL7jUqTCeOM6UfcSMhY9g/A4GG0JdeIGAvbWaTtDDSMJjpRfJ99o4570BFwPZ2tXyBMxRPq2u27kwsKmLVvzBQwwuGEHs9mSpzRPNfZpKlkItugTDGaBYRQxeCPj+4yi/rkk09a4Q4IM/zUCSuPK4APdRMlhFlgwtOWihsJTfL/p5P2F1wzIkg7wlW4knBfBLUPo1Yon+SbL9Dj4KfN4mFGvnEH8POUv/FpJ1wt11R6JJwOB0MSVwf2QmT9VhpliZlzt9gYV874gFA5VKrM0t6HDod6Sh3FJTUXDDAhj1Hw/PclL6jDtIf+/fvb5/igPMfX1eSC9MYNHZ5JR8gIfD4oS34bb2eQq42g1NAXIKvpI3x4RxQj5wrEvQkEQgfPoAMGgQuxTMftyJVPPjyLZ8fXKrd2SpGxgLHrr9FBIb3tttuKco9MC/IK4xx5hf6Qa31cLWQ/syEMEudSkHmun3/MyOBqXgsqIRdw7UPHwqUunoe8M/Wg0lTzmflkQ6myr1b9ZzV1iVL7YSgkb4u5N4FVcIH085A6QBumLVM3oJh+oxpkwjjDIma/AioojQVXBfbhyQUZSGVE4WDdCwWBHy/BQ5iGdZUTf1P2DeG+7PNAR0vl5VkYVPiS5goG4mAkAp9bZsa4B58pMIQlGz/SoBj94N6iZUDdYDEsgoB6SBQkPrM/FO40dNrsqeKMEQQDSgajwFzLQMGgQYNs/UKxY3ST/WpKXe8D+OzTLnBjYaCATp+BAlx2GYFj3w02oqRTYf8UZp9z+YmXCkIbhRXXGZ6DgGMzTdKCK03SIlsf2t6ee+5pfe3Zm4d7uPTSljgwhiqNky8oLXQ0uFGn7cBQPGjfuHiQdhQQypYF8JzLt1g+F5Uqs2Lug0cBspA6yrpBBqvYGxLFk/UF/iAVo8q8I2t7cCcjzwB3VvKAjbDZU5Lf8kzqA/nrd+r5oH2wRsblJTKftUPUoVzeEg7eA9mb5BKXq43Q7oiMh3LP+jHaMe9O+6S9+soOxgCzwbjMMSOA8kRENzpq0umPWufKJ+A6jHo6etcuyGP6K/boLKXetCSKlbFcg4sR7l/MYlL3MPCoc9Xqe1nyQH1n+QN7X/FM6g0uadQFqIXs5xnUPwakqWMMCnNf2j66CHtfkXfIY/KPtl2OMVgs5coFdCvaJ8tZiKxN3pHPvAeuab6BXimq/cxcsqEc2Vft/rPaukQ5/TDkk7fF3Jt2ShtCztBmeFeiqvKe5CHtDYrpN6pBJowzYAqRUSggJGq+BaR0mnTAzJJh0WIgoTQy4umsXqBjRcBSyRCUgL86owMoKGQ2zy0EChrWOAW35JJL2hFU0sdnRiu4l2bNWhbURRQ8FDV8kKlvdD6UN0KAOsWggIOFs2xKTkdF4yXcLYIYZWzgwIFWGSkHBgV4PiM1RI5jJAuBRP2lQyGwDp0higDP6tOnT8XdA1n0jtBjJHSnnXaybQ4lgRnoNG0AYYkxR77QBrt162YPZnIYAafTcf7elYZ2ixJHgCGiL6aF9KB80ZnyNwojZUsHgAzItV41H5Uqs2Lv4+oo3gCsEWQ7EaIRogD7yiPKCcoeo+8oW065cuWHYUr5EWKYzou/KT9GLtOAGxazJxi95CXKNvWAzrJQZ+1mNBghjbvR5moj4N4dWU775N1Zo0P7RDkiPc6dEcUWRcjVZ9YtUNfpjJEJjlz5BLhL0U/QR6lvSKYYGYtOgFHEYCqKFH03Cq1vwFUaX14xC0Z9R0lDMfRH5ast+2mbtBUMNKKIEuWP/KLOsukvhiPtjzpKhDnqsN83VZty5QLtg/6DdkS+Igdon9QD2hXyt9JU+5m5ZEM5ss+vj9XoP2uhS5TaD0M+eQtp7007YsN22jRthoii1AHaKv2DT5p+o1q0CS0/a/ox8lPIcq8mdIzMejlLFgUiDgVDiFgE1DnnnFPVjBH1QXPXW1EfOPlClCxmLpzSLuoPIv2hkDI4RmeZNXAFOvvss+06xZbQT0nGCiEqQTX74UL3Rh5j1OHOinGcdTIzc8Y0MoYZo2nlhtYUQggf5AsRnJjJkGFW3+CShNshg3huq5Msgcsl7i8YkBpAFEKISVSzH25pfXwmjDOmZVmMx0JMpsRZVyCEEJWA9T/33XefdYfT2tD6B5ckXIIIAIKLSTwIQXPCwvLLL7/crodSXRNCiElUsx9uiX18sxpn+HiyhoCZMvz5GQ3F118IIcqFmXh8+vENJ4AQ/vmFgpaI+oD1FwRkIchJOessKg0RxYjsyZpMrTUTQrR2qtkPt+Q+vlmNMzf1yEI+9npg4WGhRZFCCJEGfMwJHkBYdBarE1RACCGEELWhmv1wS+7jMxMQRIhSUL0VQojqIRkrhBC1JTMBQYQQQgghhBCiNSPjTAghhBBCCCEygIwzIYQQQgghhMgAMs6EEEIIIYQQIgPIOBNCCCGEEEKIDCDjTAghhBBCCCEygIwzIYQQQgghhMgAMs6EEEIIIYQQIgPIOBNCCCGEEEKIDCDjTAghhBBCCCEygIwzIYQQQgghhMgAMs6EEEIIIYQQIgPIOBNCCCGEEEKIDCDjTAghhBBCCCEyQLMbZ5999plZd911zSyzzGJef/316KwQQgghhCiVn3/+2Wy//fbm3HPPjc6IOH/99Zfp1auX6datm/npp5+is60X8uOII46wB383N64O++lpDWVWNeMMYYDBleuQISaEEEK0Xu655x6z7bbbmuHDh0dnhBAie/z555/m6KOPNhdffLH5999/o7PVQ26NNeS///4zr732mjn22GPN/fffH50VQgghWhdffPGFufrqq03Pnj3N/PPPH50VojTQrzD2Dz/8cDvbkpbpp5/e9O3b19x0001mrrnmis62fIYMGWIOOOAA89Zbb0Vn6odyyuy7774rSQefYYYZzCGHHGKefvpp88orr0Rnq0fVjbOTTjrJ/Pbbb02O9u3bR1e0Hv755x8zYMAAc+2115oJEyZEZ4UQQojWAyPPd9xxh1l99dXtsgYhygX96uWXX7bKtyjMxx9/bPr372+N2tbEDz/8ULIO3q5dO7PzzjubG2+80fzyyy/R2eqgmTMhhBBC1AzWmj/++OOmc+fOZtppp43OCiFEdmnTpo3ZaKON7ADASy+9FJ2tDpk2zhhde+ihh8wOO+xg3R4WWWQRO63IdGwQBNFVxgwcONCuY2PRIFbxNddcY0fk+A3Xf//99/a6jz76yBx44IH2/PLLL28uueQS88cff9jvfMaOHWsuuugi07FjR3tf7sXn+MJDt66OhYpjxoyxLhruuXvvvbf54IMPoisnpXHeeee1Fjfsv//+DWl2U/Dc//LLLzcbb7yx/Y735T50ZEIIIURLAPd+RqFXWWWV6Mxk/v77b/Pggw+aLl262H6QvvrMM89MvfD/22+/ta5t9J/0xfT5uFDSX/v9bTn4QRPQF/r162fWWWcdm17S/eKLLzbSUVzgM/SAOEnf+YE8Ro0aZT2QeB/y4oYbbrB5RBr85+6+++6NdI44rJlxOopLJ/pV0vqZNGUQz4Mrr7zSpvHCCy+03/P+b775ptl3330bygJd7tVXX7XfF8uIESPMGWec0ZB+9LPrr7/ezpj5+tWzzz5rFl10UXuNC4Ti5ydpPe2002x67r333ob38OtGseXrIH/IJ/KLa5llwW0QjynK2NflyHdc5Hz9thx9j/SgG/fo0aPh+eTRFVdcYb3VHK6+oYPCZpttZq9Nahvjx4+37+500nzvTrs74YQTGp7Ntc8//7yZOHFidEX+ciiGpDID3pP39XX3Pn36mHHjxjU8m/cFp4P75ZLv944FF1zQbLDBBnaWlnZSLTJrnCFIzj77bLPHHnuYTz/91Ky55ppmiSWWMLfffrvZZZddEn0+f/31V1vY55xzjpliiims4cX1xxxzjHnyySfNXnvtZTuF2Wef3Vq+p556qrn00ksbTesixIkAc/rpp9vPVErg82GHHWZ+/PFH+9mHSkbkGHxg3XPxZ+W5VFiYccYZrcW90EIL2c8rr7yyvTcFzW+4L/dHCCOMuXbZZZe1jRfDTwghhKh3UKwwIlZYYQUz66yzRmcngcJ61VVXmRNPPNEqTRgPRx55pFW4c/W/PihMW265pb3/KaecYl0nF1hgAXPwwQebN954I7qqcqCcYZR8+OGHVkdgYBgFj0Hh9957L7qqdBhY5j1QYK+77jqz9tprm6OOOsrccsstNp8Yvee5/P3111830jl80I3Qd0gTehX5gh6EfkX6fR2o2DJA+b7zzjutYo4u5Iw9FO5dd93VljFpx5Vs5plnbhgsLwb0MozPwYMH2/VCGI6bbrqp+eSTT2zaMZweeOABs/XWW5s11ljDGkOPPvqo2W677aI7TAJXNgbACeqAnlbIpa+Y8kVPxRgjHSj+pJF0kV5miX14LvflOgYoKA8MFu5dir7H/e666y6z+eab2/I566yzGvLo/PPPtwMUrtzatm1rLrjgAltewMQDeUV5o6c6eHcMFXTt448/vtG7x9sS777PPvvYcuLZd999t1l88cXt+1EP4sZcseWQBgxj2jnrDjFyqbfU72HDhtl34d14R94XeH/em7wgTwr93jHllFNae4S6WEgelUWYaZYwc6O/KkNoqARhQ0w8evbsGYTGl70ufPGgQ4cO9nxoONlzEDYuey4UCsHvv/9uz4VCIBg4cGAQZmSw2267BaEgsOfdtf71XPvcc88FSy65pD3Pb0KBFoSVIhg/fnwQFog936lTpyAUZvY+pIm0cW3//v2DsMLY86HVHIQC0V4fVih7b/DfMRR49joIK24QCgh7nmc63P05T5p9+vXrZ8+HhmHDe8FXX30VhBU++iTiVLreCiGEmEylZezo0aODLl26BKESFJ2ZzCOPPBJ07NgxCJXh6MwkQiXc6gmhshidaQr95l577RXssssuwahRo6Kzkxg0aFCw3HLLBaGyHoTKb3S2dPy+PFT2rF7hGDJkiO3/+/TpE4SGij3n9Jx4vw9J35FG0or+8sILL0RngyBUjoMDDjjAPpf/+ewIjSeruyTdh+tDA6BBpwH0oNDgsGkdOnRodDZ9Gbg8oCy7d+8efP755w26EToY53r06NGg6wHP99OcFvSj9u3bN6mLPMflsUtPUhm7fNh2222DUEEPRowYEX2T/Ltiy5e85L4bbbSRzScfPnOevKOsYfjw4UHnzp2t3ujyDLiPn19peffdd239jqcVnD7qpxec3uzr3ZDm3ak37l6u3aEPk34HvwsNzkY6dr5yyIX7DWlyeZNUZuj7pPnll1+2nx2h8dfoHXhfrou3xbS/B+rheuutF7z55pvRmcqTyZkzFtph9WN5MyU+00wz2fPO3xOrlaliRop8ll56aRMKBHs913LdhhtuaL/jd0yzTjXVVNbHnREG7o+r48iRI+01oYAyjz32mB192WqrreyMFhClhalnYJo+FAj2bwf3ZraN64CRkLBC2r9xswzz2f6dD0YTgWe65wLT87h/CCGEEPUOsyuMUjOj5RMqXCY0DGz/Gyqa0dlJLLbYYmb99de3MyWur4zDTAYzZ8wSzDPPPNHZSeCexCxCpcH9CU8e9AoHffaqq65q9Qpc7soB/YW0O0Ll0c6eAc/lswNPG5771VdfRWcms80229j1fb5ugR6044472pkuNwtUShkQWII8R59C7/LhulCxjT5N0m/8NBdDqPg3KXt0PWYy0sLMDxEK55tvvuhMftKW75dffmmeeuopO3uEHuqz1FJLmS222CL61Bjex581okyIRFgM/B69Fc8yZir9tAL1JzRirDtpMTM9oRFm9V7/fpQxwfxov+7dqTvUOa7114/yO1wIv/nmmyazucWWQzFQh32YMYvnST7S/J46jNvj6NGjozOVp+rGWVK0RtZ65auAVCAqO1OkHTp0sJngDgwV/FhpGDRWH1wE8Tt20GidwbTSSiuZ2Wabzf4Nc845p3UV8KdUmb7kvkSw4Tv/ubhKAIYZwswHoeW7Z0wzzTQNz8JFMZ7OJHhPXB7xnWZqnGnhuBEohBBCtETGjBljPv/8c7vGg/7U738Jl40bGC5xuYwzdAYMvoUXXjg6Mxn0DVyXKg36iK9XgNM78qU1LegWvqsZYJCwridu3KIYo3skgYGQZBSh52BsOOW5lDIgLaTThzRjDGM0sDaIfW3jelMx4F6JG2bPnj3L0o3QA+OGez7Sli96IwPxGMhxMFjJY5+5557bDuCzfpAlMUwMTPTWZhUD66E+/fRTa0zPMccc0dnJkN5lllnGrqtCH00L5ZqUV9zPf3cmODDQMAL9+sKBMe/yxqfYckgD6WVShfzEhbZYw6mY37u2hv1QLTI5c8bCPQocq5qG3bt378SDCl4qSYLMCShGBk4++eTEZzKi5I8OVApm2/DzXm211ewIx3777WfT4Rb/CiGEEC0VBjEZtXZrQZKO+LoYH5QpBl3jynQ1QVGtJsw0xWejINf5XEw33XSp0lpKGRDIIj7YTtqYlWMtFRuMM4OCMZIrAEkhmI26+eabrQGCgcZ6xfPOO8/OwhYDBnoxM1Npy5e6h4Gatu4xE8Parcsuu8yu6ULXI7+Y+U3jaeVDfmKs8uxcxjmGfNKERj7SvjsGCrNsA6J1fkkHa+98ii2HNGDssY6NTe1ZV0lcB9ZgYkimodzfV5pMGmeMDDF9iqBlQR6LUZMOrqkkzthDELDwNemZGE25OodyQJgRAeaZZ56x0+NMTyN4WPxLpRdCCCFaKiiDHCiYuJMlHSxVyDc4iquVBjPTw6wLyrVz26pEGTgwIFnywewZeg2zUOhzRFgs1gABZkQZwGZpCYEbmMVj8L7a+02lBaO2mLpHHnbt2tW88MIL5r777rPn8Joiv4qBfKb8yIdcbrRMeKAvuyVClYRnYyCiNyfVFw4XCK/aMLtL4BuCdRAcEC87lkbF3Spzkfb3lDN5ndaALYVMGmfO5ZDZM/yba4Wbmue5VY3CEuL7GftQ0RlFIeTtcccdZ8+9++67ZbtHCCGEEM0N7mkoQXFXJ87h/oWLVinuQqy5wXWLmZo4KK75wsxXG2aucIVL2iAZV8KkdWKVhCUiSXnKefQdPHag3DJIAuNhrbXWspH/WJP13HPP2eiRpcLyFaIHMnNGNGsXBp0B7moqy/lAd8RlENfaOCjyb7/9dvSpKRhpzCoSDRH3TfKnmBku6hV1H9dIP6y8A10TYwPjlvJ1VCqvcOXErZG1ZVkB907WQRKZkdgUxKhw8N6FjNR8vwdmKlmileRCXSkyaZwxvcgaLCC8KP7KbqQFv1wq2m233WY/VxIqGSM9NCTCgfr+uRhHzGC5hbOl4AuPd955p5HBhYXOIksH7+lGQZj+bS6hI4QQQlQKPE9QajAM/BkU1kTh/kRACkKP+9/xN31mvhFwXKtQ3Anr7i/q57co8fSxzQUGKQo8uoyvV5BO0lspQygX5Cnv7+cpA9CsrWFdEG6CUG4ZOJhJ8feGAowQBt7RZzDYigFF2E8LuhR6Ikr21FNPbc9hAHOuOWZPl1xySas7Es4+PrCPYo9rnw+6XzyNtAvqCbOWxeQP17PchsAsPD/uNkqZEd6foCR+TAa3ZrHcgX/qDhMKbJcQf3fqNdtY1QIMpvi6Peob+eq7UOL+SVuMt7m0vwcGlqhv1Qho4qi6cYaRE18kyEHgi1xgiBB1kcV5bKqHvzIChIgzTKnj/pc0OlYuZDR7UjAFS1AQIvJQoan4LKgkTcWMaMShMPFjBSoyncluu+1mRzuYqmeRJM/jPWnoLMolLfjA5vIlFkIIIeoFFB360/fff7/RDIpbp0QgCdYV4dKPYvfwww/b5QQsK3AKLQolC/fRDdxsBQYf7m4oqOyJhULK77kPxhlLBXz4Hb/nPk5B5Ry6BmujKglGBM9ifdFBBx1k08aBmx+BNwhGUE3QYdgbjQ2SMdIwCNn3ldlENi12SzqKKYN8YEwxS+b2mOWZbCB966232siRLjgJG1ZTVoVcE/Ek+t///mf1skGDBln9ibgA3ItgJw4G2PmetVy4UrJnVS1A4afukZ+4JpK/7p3ZZ4x39GEdE2l35UEesZaP+oHe6/S9tPlDBM9DDz3UPgudkrrFfbl/t27dbJ1m7y7K18G6L3RQ9vrFlZKyKcVFFB2VyIvESuDdiZOAqyaB/6hH5UxoFAODCUQk5fnUAeoKM6zIGt7TQV1ndpjNtakfTLowO5b298xE8q60WTcTmSSPyiWTM2fACAiZx7QiGYMgx4DB2mfTOAylarDeeuvZQqKiM4pBIeBygLGEXzAGWznstNNOdjaQCo2LAwabm/anIjP6wbQ2I2oITdLCqIQQQgjREth4441t/8fsmQ/9Poo4Gy/jwUJ/idKD6xZrjHDfyoUzLAhCgQKF8YHCS19Ln8u9C4FrFksL3CBqJWHQFaMBg5S08TeKNEexM0nFwnojlGW8czCaCPjBGjAGydF5fMopAwezDUS4xtWO3/NMFOCbbrrJlhFlxcwF7pPM1PnRrpNg3RJGPcoyxgvGB0YHxgfpcqBDUdYY1xiTGIm1ApdEjDICpGCUor+htCflGXlM/hBfgMF3jGBmbTAIuA8Ukz/UWeIk8HvyCcOa+zJrR3ALDj+fgMEM1lUx4cB2AWwsXYqHlmt35Dl1ijJh2yrejTIgXbWANks+s7E1dYR832STTWyQD7/tY0hTjzDQWE9G9E/X5tP8nuAv2CLIsPiMWiVpE0RzxYSR90cghKgHVG+FEKJ6VEPGMvvCrAJ7YKHMpQkwUQ64uqGI4o7E2ie8d5JAIWMN0znnnFNVxUsYa5yjvFMPWvoANPUKg/LGG2+0gwVpaE35Uy9gLjED/cQTT1ijrZyI8YXI7MyZEEIIIVoeGGPMHn344Yd2HVa1YekAszjMIDGrkwSzHAQgY727DLPqw9o13D1Zr9WSwQuKes46J7yx0tJa8qeewGWReBe4cVbTMAMZZ0IIIYSoKczG4ZqGC10xm+MWC7N0uDqyZICoeLlct3D5w2Wp3KULIh2sRWJGKGnj5JYCroqs13vwwQdt3SsUJdCnNeRPPYGRzVYOrN9kDV+1kVujqGtUb4UQonrUi4xldowgEQQ6WGWVVezaElwUUY5ZT8M6E9aSs75EiErCrCvruoDAbgSXY9Nnol7ef//9NlgIbrXxdV9C5ELGmahrVG+FEKJ61IuMZYaMxf0EJsAYGzt2rF3fQzAvXCgJLFbtwBuidUIAGgJgEPmPIBysF8OFccMNNzR77rmnDWhS7XWVomUh40zUNaq3QghRPSRjhRCitmgYSQghhBBCCCEygIwzIYQQQgghhMgAMs6EEEIIIYQQIgPIOBNCCCGEEEKIDCDjTAghhBBCCCEygIwzIYQQQgghhMgAMs6EEEIIIYQQIgPIOBNCCCGEEEKIDCDjTAghhBBCCCEyQJsghD+GDRtmTwghhBBCCCGEqD2NjLOlllrKnhSiXlC9FUKI6iEZK4QQtUVujUIIIYQQQgiRAWScCSGEEEIIIUQGkHEmhBBCCCGEEBlAxpkQQgghhBBCZAAZZ0IIIYQQQgiRAWScCSGEEEIIIUQGkHEmhBBCCCGEEBlAxpkQQgghhBBCZAAZZ0IIIYQQQgiRAWScCSGEEEIIIUQGkHEmhBBCCCGEEBlAxpkQQgghhBBCZAAZZ0IIIYQQQgiRAWScCSGEEEIIIUQGkHEmhBBCCCGEEBlAxpkQQgghhBBCZAAZZwU499xzzSyzzGKOOOII89dff0Vnc8M1d955p7n22mvN2LFjo7PJ98l1rRBZhPpK/U3bFuD111+39X7gwIHRGdFcuLLg/6xB/Vh33XXNZ599Fp1pfSgP6odi29LPP/9stt9++6JkZ0smy7Ko1iS1+/vvv9+ss846TfInCALz4osvmi5dutj8u+SSS2x96tWrl+nWrZv56aefoisrR5bkEmkgLWn1Cdfu0L/rjaoZZ84Y4dh2223NyJEjo2+SeeGFF8z8889vryczydR65MMPPzTHHHOMOfbYY81zzz0XnU2mmGtF7aDu1nMdbO1MnDjRDB061Jx44ommY8eODXKIg8/vvfdedKUQojlw+sFxxx1n/v777+hsboYPH2623npr+xsp9OlAkf/222/NeeedZzbZZJNGcnD11Vc3jz76aHSlqBdeeukl0717d7PEEkuYu+++2yy88MLRN9mCNrrxxhtbHVeURk1mzp5//nnz5ptvRp+agnB+7LHHzB9//BGdKZ+vv/7ajir07t27piNViyyyiNl0001N+/btzUorrRSdTSbXteTH008/bQ444ADz1ltvRWeFKB3aADO0tW4PtQYZcsYZZ9g29eSTT5oNN9zQvjMHgyCzzz67+eeff6Kr65f//vvP3HPPPebwww/XIIKoW9ANvvzyy+hTbp555hmrmJZLa2k36BDXXXedlYO33HKLWXnllRvk4EknnWQWX3xxzeBlGAaHX3vtNVt+DvqtJ554wqy55prm1FNPNZtvvrnZYYcdzPTTT2/69u1rbrrpJjPXXHNFVzcfzN5dfvnlZq+99jLLL798dFYUS9WNs7nnntvMNNNM5uWXX845QoZwRkgvueSSZr755ovOlgfGIBW41u6C88wzjxWGTz31lH2ffOS6dty4ceaqq64y/fv3t52JEOVCR4xgb8nus3/++ac57bTT7Iji9ddfb1599VVz5plnmiOPPNIep5xyinnooYfMWmutFf2ifqGjRqZ+99130Rkh6ov11lvPzuI8++yzdpYnF7/88osdaNloo42iM6XTGtrNv//+a/UHDDHc3Rjgveiiixrk4PHHH2/dwrp27Rr9QtQD6IL04+jU0047bXQ2W9COH3nkEfv3dtttZ9q0aWP/FsVTdeMM/1Cs53wjZAiPTz/91PrYCiFEsdApMNCBAcoM4f/+97/MdmBCCGOmnnpqOzOAl8ioUaOis03BDRndYauttorOiHxgyF5xxRXm0ksvNYcddpiZYYYZom+EqC60Y9bLMas322yzRWdFKVTdOFt66aWtaxHGF9O0cdyo2BprrGE6dOiQuDYtKZiGw33H/+AWDO6///7284033mjmnXdee43zVWcGD2PxoIMOsoaj88FmdCnfzML48eNNv379rBHJb1iU+fjjj9s1Lg73fP95uUi6lvdYdNFF7WgibLbZZvZ73v2dd94xq666ql2bxxq9OG7dHlPdY8aMic6KSuAWxVKPKfMtttjClsvuu+9uhg0bZq/56KOPzIEHHmjLgHp19dVXN6mvlb5P0iLd+Hd+nfLbA9c5WJvAGi3aAd/x/zXXXNPkuQ5GoHEPwq+c6/mftpHr+ji0GdyUdtttN/ueuPjiakQ6HIwUomSsvfbaBdvSDz/8YB5++GFrlPmuIIVgtu2GG24wnTt3tu/h0vH9999HV0yC5/M9/8fLh9m5uNwo9npwebL33nvbdPB70kXQID9fKTfKkLKkTClbrnUyMA3kM+/JczgOOeQQm84kuPaEE05okJXIPeSnL/cKkVS/cH1JcjFlZsPVi1z1EBn+4IMPWlnHdRzk2wcffBBdMQl/QTh5fsEFF9j3yHW9w88frqX8vvjiC3ufpPWouPLQf7j3oz3QPpK8Rbj2rLPOarh25513tu+cb/aoJTLFFFNY+cd6MrxHkqB9DhgwwK4VRZeI4/pQX5Y54t+laTdp5YFPMW0piTTtCzmCHEQe5vOm+f33322969Spk83btDMX1W5P+Sgm/9LkVS58mcyEAO2Oz+TTG2+8Ydsf5czMoksLLvJJspprhwwZYnr06NGQFuoo5fPbb79FVzWmmHZPXXVpBfLb1d24TotsRD/Mglz6+OOPbR3cYIMNojOToezS6hikj3S6dojOnU+/oPypB67+UibUzXp2Xa66cTbVVFNZAYlrIwIRY8yHUTEylQWrNIZyYTQOF0F8rGGhhRay7hBUyummm86eGzx4sA1SgnK82GKLWaNwxIgR5vTTT7duAFSuODQ4vsMtAHgfjKH99tvP3HvvvRXrWBltWH/99e3aGMC/mLTjS0xaUTxZV4Pbpv9MBPYrr7xiv+P6OeaYI/pGVJK77rrL3HfffbYenHPOOeaTTz4xRx11lK3DLG5n7eAdd9xhR44Q8jfffHNi3ajUfdKAewEKDgMgLKp/4IEH7GJwN1ONAOvZs6cVrKzLwvUPIUfHxLqFuDKA4LzssstsB0Knihsh7Q23QY5cAtTBe9BmGEChffKedD64Gu2zzz7WcC0WFDFkCYMZyJy0YCBg/LL2k/emc2IQhDyns4qD0oBxRbsk3VtuuaX9PR1BUoeX9nr+Pv/8880uu+xi5RT5Tr6ikBI06OSTT7aKI1BulCFlSZlStpQn5ZwG0nTwwQebBRZYwM42UmYEUKEzdsqAg7KgTDBMyBvSxHoVyi6N3ON78pX3fvfdd83RRx9t03rooYdawyxet6j/Z599tn031lBQr2gP8XqIIkndW2WVVWy+4sZFeaGkkNY4v/76q70veYgCxbobF5AJpcEHhYT0omiSN9yfvCLPUOLi/Pjjj3aGAgOD9yNtDEjyN+nCzcxBPcXwpO3vu+++Nm8oT8qX/qi1QWAD+mcGaOO6ASCTGLBAScs3u5aGNO2mFHmQti0lUW77ivPNN99YOYg+NfPMM0dnC1PN9pSPWsoiB3obBgvtEOOAQXeMLPRTyhljgP6WNf98H5fVyCH6b/pm2j5pIf+oM8hwBnI471Nuu6eOurrr9+H5ls7UWi6R/xi9GEYs2fEpRsegTrEkifq43HLL2XTzW9wlCW7j+kEH70G7ZYAb/Zl+gzV4GM8Yg/GyqBvCDLWEFT/6qzKEmROEwsH+P3bs2CAs+KBt27ZB2PlGVwRBmKlBaBDZ86+99po9+E1YEYMxY8ZEV02+V1hAQVgw0dlJ+M/xCQVvzt+ExlkQKpZB2CijM0EQCrQgFNgNaXG4+3OEFT0YPXq0PT9u3LggFE72fNgog1Ao2vPDhg0LQmPPnk+6j5+eXNfy7uRB/DyEFdWe33777YNQeEZnA/s358LGat+vtVDpeguUVbwOuvpEHaDsHaFAt3WGg78doTEfhMK9STlV8j7UHepQnKTvXJ1Kag+0z1DQN2oPEyZMCHr37h106tQpCDtbe47f8XvSTx7514fCNejXr59Nv9/GXZsmTY5QSQ/WWmut4LnnngsmTpwYnQ2CkSNHBl27dg169eoVhJ1hdDYdoYLQKK1pCTuJhjbtcGVBnjjce4SKZBAa0tHZyfmE7AiViuhs8deHHU/Qrl07K5f8POFv0kh6QuUlOju5LOL1NB8uTdSNUJGKzk4iNIyDrbbaKjjooIMa6iX1Yq+99mpS1rxDaEynyu+wg7TvetRRRzWq73FcuwiN0yBUwqOzk+t/qJwHw4cPj84Gto599dVX0adJuGdRFxyu3pN/8bx15eznq3vneDpg0KBBQagsNMpz8iVUAIJQuQt+//13ew54Tv/+/RvJY3dtvE4Anzmfq003J9WWsZQldd+XG4B+0KdPH1selIurI36f6PpQX744kr4r1G6KlQdp25Krh778rUT7ikMaS9EBqtWectEcssg9kz6Gvsbh3pPvQsW+4Z2crI63Sfov5EBo4NlrfN544w17L+ot9RdKafdJdd3VXb8OQVKdbg65RDp4XmjMRmcmQ/ml0TEgV19IXaAfIV/8Np2rPPibc1xPvak3ahKtEWuWUQZmdZjd+S+ykplCZs+GsPDNMsssY8/VAkaHdtppp0ZrUpZaaqmGWamwokRnJxM2ODvi4KLh4McdCgs768YIT9LoUjVgJJm0MErlL2pm5IN0MGLGu4jqgOuA78O/7LLLWldTRrP8QBOhQLBuKIz2Jk2tV+o+lYD2yci03x6YfaJNhgLXjiz6UP+Y4fGvx0WJ2QbeIexQco5i0vaJzMqoHO3Nd7vBVYORPUZOc7mG5IJ2y2z2jDPOGJ1JxzbbbNMkwhWzecxSc884e+yxRyP3KvIJdxZGdZPKJ8315DGjgsz6sa7GzxP+pk0z08+MTlKaimXXXXe1I5I+Cy64oB3JZNTduXDxd6iw2fPxukFaGaVPkpUO6gBlTR1mFDTN2hfS5o+68lvqBHnlezRwDrc0H9xZeI+kPKJdUT/9vHVtDpdYV195Z/KZ0e/46C9uOIyO+7AWim1QGLWl/jl4Dn0D3iCMFgPXMorN6H/cRQ+ZTT63RpB31Cfqij9DQX5xbscdd6zZ+pVi5UHatpREue0rCdJIwIhi5WC12lMhaiWLfEg3fY2D9ybdyGX0VPdOTlYzAxMaPfac67+Y8SXtXOODjAiNJBuMys3YNEe7bw65hMcM5UV7iZNWx8jXF9J/MLvnBw3MVx78TdrRV+qRmhhngFsPBf/ss882NDgMs7fffts2iFoJX8fo0aNtoeJORYFTGZhWzwVuZvHOGtdBZ1Ryv1qA4EJZY20ehi4gCHH9QIhi6KZRgkTxMF2P+4UPwmaaaaaxnXe8Q/SFok+l7lNJcA14//33bZRDBiHww8elxe+YHAjCOeecM/o0GdowbhYYknGDzjFu3DhrmPh+8/7BegLcacYm+PkXYuLEiUWtgwLaDvIIFxncD4lgRufKe6MMxIl3XkAoY0ApiZPmevL3888/NyussEJi2+UceU56SsmXONQ/v9NzoCThZuSMRv5GKXJrBPwD12tkUNI7Oyhr3gvFx1eGckG6kgbpppxyykbpcsRlOIYT/Qsu6nHX2qR25dqcX19RVGibSfsHUW5t27aNPk2CMiFt9B/xPOJ9cIN0SiPX4g6WtMUK5RHvX1oL1G8U5uefnxw0jHaJqyOGUi2jqxYrD9K2pSTKbV+5QAamNY58qtGeClErWeQTl8nIF+pgu3btmuihTlY7XP9F+pKWjnAvZBiD5eQDNEe7z6JcSqNjFOoLST+DD45C5cHg3qyzzhp9qi9qZpxR8TEcMMYoIAwJRihpKBhutQKhxUJDN/p/66232rUPrNMqJpBAc0Hjd2v4XD4iwJg1452YZRHVgdmhpI4E8n0Xp1L3qRTM+qKEoCDhX44wZi0l/upJIDSph6WAgGYGhFG6Rx99NPHAxz+uBBcCZYHOhk46LYzSoYAh2FlDhxxgoAg/e9YyJFHse6e5HkWGtPidThxGI/0RxnKIKxy5QLYgUwZEa3OSDmZAc0F+ovBRn9x633ykrfvUIdYpuHWOjFAjE1mnkGuUNO29SS8DD2kHC8kj6gpBJJLyhwPl3l1byqxGawADjJkajANGw1FsieKIgZDGsK8EpciDtG0piXLbVxIMKqCUF2PUVbM9FaJWssgnl0xOI6td/4V8wBBNgsEd+iEnq5uj3WdNLqXVMdL0hT5pyqNeqZlxxqgK05oYFRQORhoLMzHYMNxqBQociyFJBwsNsdox1gj2gVAuBjoRKlKtwS2TfGPxJZttO5dGDLNilVrRusGNiNDzBNKhPrEgmEXRuP3mUkhyMWHCBDtQQCeXz/jE3YDnMSiD20j8oJMtdrYQ9wtG0ZAraUeN2dj29ttvt3KAmWcUs+7du1slIGnUrlqQXxz5Zt/5jg6omrOolB33d0oK5UTnxwBaUjlxJLmwOFxZE+gBRbdSMCiFAc9Bnb3wwgttgBHSU4lRUtLqu9flg7zCkGBwIJ437vBH6ukv0t67NYEBxkg6SiMzVwS8IoojXiK1GqyqpDyIt6Ukym1fSWAYoAcMGjTI3jsN1W5PpVBpWVQp0sg00k7f6cvqWrf7LMmlUnQMDMZiwKhDH29J1Mw4gxVXXNHOThEFixkrCiDuh5qEs6KpQH4B8PtCa73iBcYUPQocyhwjRTQ24N75fJZRjuKVF8No8ODB1geW+1WDpAqHkkanxbsTAY33AUb5WtrogUgGwY87QjzCGYYJ9TKO61TiYNBg3KOAxF0tcxkLXJ8UWY3RWvzYcZvINVOCkoOL3ieffFIRFz0HHQ2yBLkyLNqSoBAurcgBXwEkT/IZSpUG1y3WPbCOFDkUh3N8x6i4U5ZIbz7FLx+s6YuDnEGW4YKI6zSwhgRXItZzlIIra56HwlIpkHv0CRj3Tn4D5VZspx6H9FK/MQziUOfjocKdEsYgXyFQlFCYnOueD32Lk+OtEeoz7RdYc8IALuu/cJPOB3KGeuavv3bgIhV3RczXbkqRB2nbUhLltq8kmH3EyGWGKR7tMBfVbE+FqJUsqhSFZJpLO7LarV1sjnbfHHKJWVDKK94Wi9ExqIfUYfSDuL4NtFH/nSgPJnfo8/01yQ7n3lmP1NQ4wycU90E3W4UwSFpjEIfMp6Ix08aIFj7VFBwWOII8CSeAKZikjpbROVeJuBehUxk5ywV7KBFi1ylPVGZcH/B3ZRar2FmGfPiKNCMNSetomF1AIcUvn8WcafNStAwQ/ow2s07DHyFFSDHyG4cBEARjfIDDgSLjC0PqNeGJk2BUllC4/nO5Ly4UDA4wKpcLvl9vvfVsB9a/f/8mo7sI36QOuxB0DIRkBlwluH98Bo12RHuhk3fga+8Ldd7jtttuK8o9slzwo2eBPeXGzIGfbv5m3QdtnGvojAClFNeQYmZ5HAMHDmyitBLEhf3UkM9ujQF+/wym4fIUD0eM0kZe5oOyZsAIGUZ47mLTmQ86dT9oDPWIPiUp1H0xoECgYJAXTtYD5YCbHe3NB6MaWcyMC23Gh/flN869CUODvoIw3PH8JI8o+9YM+c6gI2HO6ecJCJA0oOTDljMolxgi9MkOyo4yjBsXhdpNsfIgbVtKotz2lQR6z5577mnXD/Xs2dPeI64/UJeRj/79q9WeClErWVQpkGnIYfop2nG8/2LbBcLcYyA7d9zmaPfNIZdoWxhW6NVJ2+mk0TEYfGSPNJ7Js31IG2n04Zlcj1zmnfy+08mAWvbllaSmxhmjUQhfN52a1p8cNz6uJZNZJ8bn1VZbzY6uEcUsCVwUeQ5WP8oiFRUBTqWlIlIx2MCQhkb0Gix1IujlgkWnKKWMmnAvKjTKJf9369bNLjysFNyLdwT8vvmbvSH8Cu/W8GE0YrTW0jdfND8MBtCWLrnkEuuSi3C68sor7Z5QSRtAIsSouwxmMMjA2g5+gzAkUhdCnL1qOIeRxf5rjFYmQZshGhV1kk6Rzog1ZAhOFvjynHxQb1EgTjvtNOt3Th3mPuyRQ6fmlASMSPbQwU0nzSgw7Z3F7Che5AGygc8XX3yxdVHq1KmT3UvOjQ5zDQodaeYdSAcGHs9nBL2WkKfkCQoVm+OTHxzkMXvwcGDo+FA+yCQGiRhYQplKAwM57OFDOSM7yCOiE6LQkQY3sIWbENdR1uw75K6nziFvfCM3FxjiuLDgKsW9kZmkmYAwnEvqxAtBUAAUeRaV0/m6fGJWC+OqHBj0oA5Ql4l0Rr3g/tQbOn8igvngxUAeodQTRIG6Rh6RV9Q/39jmWu5NOl1+0t7Y64e9Dvl9a4Z6R/vnf/rbXPLHh0Fbgh4QHIt2Q3lxECUV2ZbUjnO1m1LkQdq2lEQx7cstW0AeJg2u+WDQ9OnTx/YRuI4h95B/1E3SR73E8HVUsz0VopayqFJQDrh9sqcZbZa6Qjsmj9EFqbtsyO1mX5uj3TeHXOJ9mXXmPr6RV4yOwT1IA+WP/CUN7nqn++OB50P9Ri7TdyKnqb/0M/weXRp9w4cZQsqIAeYsU1PjDJxRgeCgwHz3gVxQedjojwrESBkVDsWUxoGxlQSzSPhQY3gxsoLChoKKCyIjcxQma2QYteFvNqB2Gz8ngcJ56aWX2kWNzMRxLQrp/fffX/FAIggkdslHWeU5RK9jxNzPK2ZCUHyAd+LvNHkpWgbMFCHoaBMMUiCIWKdBB+EMex/qBtegwNDB0/nSyVPXEOIMAiAEuQbFpW/fvolGHtD5swEpM+EIQ+oqI9yMgtI+CtVD6jJCFwWdEVueSRr4m1HqcqKz0dljePKOpIk2ixHIzBOKH4IbwQ90sqw/JR/YFoMODFcq34CrFS5PMJzJBzp5DmQNeULHE59FQClBmaGTwcj1R77zgWJGkAN+xwAV5cbvyQt/pJ9yJIw51yG3qVtcT17mCxjjQ5q5js6Sv8lbno9CzPrYUtyw6TtQyggHjYw88cQTrWGOQurcPkvFvTMzfa5ecH+UQ/I6aSaE4An0A8hglAjyiMi/GA3ksx/0gGtRgEk7bQ6jGwOVNRkM9LV2UNbo2wkc4GaJC0FgAwwt9ALKi79RKDmS2nGudlOKPEjblpKoRPvKBW0EuUE9pu5SL5GDpI9ZKGQ99dNdW632VIhayqJK4cs02jayGYOHmR76RY543W2Odt8ccolJEwwi1jE6itUxKHc2lWZzcdxzuZ5tAegfk8L6k9fUB4LZMOPOgATvQv+JbhJvu7jGUoYYklmmTWg9W/MZd6hqrZsS1QFBxQghlZdR6LSdWUtC9VYIUQsY4EPBZW0lxj/uqK0ByVghRBowJ6655hobiR1PHiZWsgbpYg0cs4K+gZo1aj5zJioD/rTMmABulq3RMBNCiFpBAADWQzLToHD4QgjRGDfD6dZ3O9fJrMBsIEuY8KjLsmEGMs7qECo+/vAEECDCFS4gQgghqgML2XERIxAAaxzyrSUSQojWCm6JrMnr16+fnXXPEiwRYtkAkUCzjtwa6whGbvGvJnob4EuOT7Bbe9YaUb0VQlQKZCzrMVgPx9pN3HJwgWEwjMh1BDdB8Yiv/2vJSMYKIURt0cxZHcHCRpQCIlQRWZKIYq3ZMBNCiEqCuyIuL2z3wqJ4AhawnpdtKIjKRiCA1mSYCSGEqD2aORN1jeqtEEJUD8lYIYSoLZo5E0IIIYQQQogMIONMCCGEEEIIITKAjDMhhBBCCCGEyAAyzoQQQgghhBAiA8g4E0IIIYQQQogMIONMCCGEEEIIITKAjDMhhBBCCCGEyAAyzoQQQgghhBAiA8g4E0IIIYQQQogMIONMCCGEEEIIITKAjDMhhBBCCCGEyAAyzoQQQgghhBAiA8g4E0IIIYQQQogMIONMCCGEEEIIITKAjDMhyiAIAvPiiy+aLl26mFlmmcVccskl0TeiGH766SfTrVs306tXL/PXX39FZ4UQQpTC66+/bvsk/he5ob854ogjzPbbb29+/vnn6KwQzYuMMyHK4KWXXjLdu3c3SyyxhLn77rvNwgsvHH0jhBBCCFG/MACNbrP77rubH3/8MTorqo2MMyFK5J9//jFPPPGEWXPNNc2pp55qNt98c7PDDjvY77777jtz7LHHmvvvv99+FpMYMmSIOeCAA8xbb70VnZnEXHPNZW666SbTt29fM/3000dnhRBCCFEupeokbdq0MVtvvbVp27atufnmm82///4bfSOqiYwzIUrkv//+sy4Rc889t5l22mmjs5P44YcfzLXXXmsmTJgQnRHw8ccfm/79+9u8E0IIIUT1KUcnYcB0n332sYPRDLCK6iPjTAghhBBCCJHIkksuadZYYw1z1113mb///js6K6qFjDMhYvz555/mhhtuMJ07d7YLqhdZZBFz+OGHm++//z66wphzzz3XzDvvvObGG2+0B39z7VNPPWUXFm+22Wb2uv3339+eX3fddc1nn31mzwEBMC666CKz+uqr2+833nhjc8899zQSem6hMsfYsWPNlVdeadNy4YUXRlfkhvs8+OCD1s1y/vnntwd/f/rpp/Z7Fj6TTt6De5922mn2mnvvvdd+D2nSCEnP2nvvvc0HH3wQXWHsu5MH5AeQP9zTLcJ26eFd4wFBkspj3333NW+++ab1h/cZOHBgQ16//PLLZuedd7a/4R2uueYaBRsRoplJI3ucTHGBlpZffnlz5plnWpnk49o7cu3xxx83W2yxhb2e9THDhg2z13z00UfmwAMPtM/gPldffXWiHJg4caJdQ4zsQsZwH2TOnXfe2XA9M/5nnXWWlYXffPONPeczZswYKwd79+7d4B3g7rvbbrvZNLj+5Ntvv7Xfl0qSXDzooIPMiBEjoismQx4ccsgh9hqXl+R9HNJ04oknNsj8XHKzFDlL2fFcns+1/Ab39gEDBjTpH6ES+Za2D8tFc9TDYp9ZqAxce8unk+Cq+PTTTzf04eQ17cAvE7yDttxyS/P222+bkSNHRmdFtZBxJkSMyy+/3ArOTTfd1Dz00EO2M37nnXfM8ccf3yAgt9tuO/PAAw9YX2wO/n700UfNiiuuaDs3OgQ44YQT7PkLLrjA+mwDi2oPO+wwa8gdffTRVhBvuOGG9u+rrrqqiU83nRQKAveiQy3k800auT8dGaNdd9xxh13PtdJKK5lx48ZFV00CFwfe9+KLLzZ//PFHg0JRTBr5jmetssoq9ll8TxowtL744gt7De9OHvAOQP6QL+TVjDPOaM8lgSsGnQTp22CDDWx5OKWOMqCjjRto8Pzzz1tjls6Gxcwrr7yyOe6446zPfNL1Qojakkv2IFuQIcgGFEja/JFHHmmeffZZK5OSghIwmn/ffffZ68455xzzySefmKOOOsrKAdo9sg/ZxLpg5HhcDqAQn3/++WaXXXYx0003nbnuuuus3Fh66aXNMcccY04++WRrDE055ZRmk002sfd///33o19PBpcvziOruJZnYHSiEC+00EI2Dcgv1v/gJuYGy4oFuYrR4svFK664wrrYxxV+jALyEiWf90bBpn+jX/OvRYnv2bOndT1nbRL3RH6eccYZNj+SXNHTylneE+OBfpK8oM9YZ5117HMwZuJUIt+K7WfjNEc9LOWZhcqA/pX75dJJKFd+T167Ppy8/u233+xggw+Bz6jX1ClRZcLCs4SVPfpLiPqhGvU2FIjB6NGjo0+TCIVjEAqyIBRq0ZkgCDvrIOzM7MHfPq+99low88wzBwMGDIjOTGL8+PFBKCiDHj16BL///nt0NghCAyzo379/EBpTweDBg+05d/8uXboE3bt3Dz7//HN7XT5ChSfo3bt3sNxyywWDBg2KzjYlFLpBaNwE2267rU3PiBEjom+KSyOEnUPw1VdfRZ8mESopwRprrBGECkN0ZhLkB/lC/vi49Ph56dKx0UYbBWEnZ885uCbsZOwzhg4dGp2dfP9QyQpGjRoVnQ2CsKMJDjjgAJuX/rsKIfJTaRmbT/bAI488EnTs2DH48MMPozOTQAZ06NChkUxx7T1UXINx48ZFZyfLaw7+djg5sP322wc//fRTdHbSM9u1axcMHDiwkYzlb/oD7nPLLbfYc2PHjg1CwygIDQsroxyhYh306dPHfsc18O677wZrrbVW8NxzzzW678iRI4OuXbsGvXr1CkLDMDqbDvcOSXLRx/VB8etcHxEq4lZOO0gz/Zv/Tu7aTp06Bd9++210tjg5m0+O85nzlOuwYcOis+XnWzF9mOtnqZPUTUdz1cNin5m2r8ulkwwfPjzo3LlzcPbZZzfKa/IwrtfwmTwNDbvojKgWmjkTIsY222xjowf6MHq32GKL2RHecvjyyy9N2OFYd4eZZpopOjspIlIofK07ASOXPnzGHWLxxRe31+UjNJLMk08+aQ4++GA78laIUJDb6InzzTdfdKb4NDIaueiii0afJoFrxIILLlhWfpEORj0ZKWUE24cFynvuuaf9O+x07P8+vNM888wTfTIm7JTM2muvbUceeWchRPOSJHtC5c+ECqr1RlhuueWis5NA/q6//vp2NiI+O4Tb1gwzzBB9MmbZZZc1q666qr1PqORHZyfLgVCZtTNF4J6J29dWW23VSMbyNzNloSFpXceQZ7POOqud9Ym7d40ePdq6WvMd1zAj8dhjj9nP7du3b3Rf3OCRm0OHDi1aHjFr8fDDD1vPhLhcTIIZlaWWWir6ZMxUU01l34nZt19//TU6a8xss81mXST94FZcu8wyy9g8CpX16Oxk0sjZfHKcdOEC6FOJfCuln/VpznpY7DMr1ddxX/LeQT2IR06eZppprG6EZwzRqkX1kHEmRIwgCOz6MlwE8PXu2rWrdaHDZQXjpxz4PZ2rW3PlH7idvPHGG0186jmPcE4D6eYZCGe/U8sFbha+YIdS0ohiQoeKOwTuNriEPvvss3b9Q7wzSQvpQHkgjUm0bdvWGoX4xfsdBWlcYIEFok+ToZPmvVxnKIRoPpJkD25Un3/+uenTp481cHzZg1KI+xUyzpcpSe0dxRJFErkZd5v2lXVwz1xhhRUaKdYOzuHOhTzCnRq5ioHA375rI8r+8OHDreHDNbiQ437nr0n2D9zLUHK5TzFgmJAe0psGjIN4X4BrGuA27oNbHe90/fXXW/c/DCeMQPo+8sknrZzFgOU5GCpxSFd8YK8S+VZKH+bTnPWw3GdCMX0drrCdOnWy6xd79epl69fEiROjbxtDvcHtN27Iicoj40wID0avMMgYubrsssus0o9/OGsOmLkqF0ZeuQ+CEL/vpAND0IdRvrR7f2Ek0REwCpoGDJz4vYtJI5056xHwcz/llFPsaB0zduz7RmSnciAddBy51qTR8dExxTuKKaaYookyIoTIFkmyh9kZZLBbF5N0nHhi43Wq+dp7GlngnomsyQWeE1zjZo/atWtnZ3WYTWO9GvKH4BXIPOQ1IBt///13O2OU9B4c/lrktCDj55xzztQy3hlihWAmjYFI1qSxDgzDeb/99rNrnZJIK2eL7ZMqkW+l9LM+zVkPK/XMtDA7SrAY9J1XXnnF1usdd9zR1m0GqkXzIONMCI9nnnnG3H777XbxMJ0thlr37t1tp5s0qlosdJS4MtBZdezYMfFI46qSC+5PZxgP/FEMxaSRUVY6Sg4ibxFJ8tBDD7XXMPpXDoXehYACjAzOPvvsdnRSCFHf0OY5aM9xmeMONv33Xe/KxT0TWZMLvsO4cLMd9AW+ayMzZiizGDaun0BxRvGdeuqpbZqT3oV7xGdQCsE9MT7KkfFxMDDZA4u0IscJakHAip122qkig5IYHTwjDZXIN8qznH62OethLZ/p4J4Y5i+88IIteyCAC94wPgxCYESSznKNQpEfGWdCeOCagqsAM0G+8KEjzNd5x0F4JXUedHScx02kGriO1A9jXyzFpJHRVkac6TToVB3kFwpEHPIlLYXeBVcZyosOuJj7CiGyCe5buLnh1pYkP6qBe+aHH35ojYg4nOO7hRdeuNGAEwYCBgcDVMhKlGrkoMO5Q7JOqFjXxXzgHojLmouEWwmQ17iHMwgZd5Mrpt9LAvmMocQ6sDjkHwauTyXyrdx+tjnrYbWemUsn8cFIw8WRUPx4wLBuz80WA55EuJSyphz3RlE9ZJwJEYN1TrhVOOicb7vttqL29mCUlU4pLmQRvnTqzM4hhH3oqNhrxBeGxcICa9Y8EEYX3/FSKDaNdN7+wmPcUghxj19/HNfx+37zuWBkkwXqvEs8HfyeMmHWjPUfQoj6h2AGyB4CI+Ba57tV8TdbmhSzz1UaWNNDEAa8JXAdiz+TtbMEtOAa33sCYw0FllDmyEQCTfhr6DDW1ltvPTN48GDTv39/Kxd9GFgqRUavttpq1ghkposZu0rCuid/hgu56+8/Vwps57LRRhvZMPPxUPDM0pHnPpXIt3L72eaoh9V+Zi6dhL7UL3PAddJ5pPiDrr/88os1spPWD4rKIuNMCA/2jGGUj0XQ7MlCVCwiH2J8MKOWFmaT6CD69etnDZUBAwaYr7/+2gpIoithALp9anAlwDeeiGBx5aBYUB7YVwW3EFxScMtEeSCC4+mnn27efffd6MrcFJNGNrwkKiOLx9mLjeewdw2zXUlrzlgnwPlLL73UukzceuutVuAnwXoUXCR5FyKOEWyEdNBhs/cZyhRr21CSSoFOhgXjLIJOYywKIaoL3gqsdyGgUM+ePa0sQ6Ygh1n/xJ5PcUWyEmB4Ef2VZ7KRM890sqxHjx72YO2xD7MMDAwh25FLBM+Iz+BjlHBfNtom/bwH92XvNK73B7UwgnJtbu1DdEv2sWJzY/Lqkksusc/n3qz7TZqhKgQzgrwLxsxJJ51k+wzkPfldriJOf0IfSp+Aqxz9BPdn/zT2liOiYpxi8i2JcvvZ5qiH1X5mLp2EICNEqPZ1Bda2sf6M6KUYaA4MXQauMbgBN0f21yMA2euvv27Picog40wID4QMm0AidPbaay8r1BFcCEp/BKkQdA747CMM9913Xxv5ESMDGG29//777eggnUWXLl3MLbfcYg0FAo+kDf6RCwQnHSACHQOTzoj0446Qb9G7T9o04j6CcsAieDpOhDozXi7iVBwMKTpcRi3Z8JXZtXwuif67MKJIOuhEeC6ji6RPCNFyYPaJTZIxNHB5Y5CJARQGnohYh8tbpeHeGAs8F0+Abt262YOZKWboUZad/PYhEiIHAaScG7aPuy+RB7kvhghGA39zXxdenf4G10kGrvytBXLh5DMGFZEVkYsMvtFH0fcUCzKYdDHYhYJOOgcNGmT69u1rByzLhfQix10/gbHLgFiu8kybb/kot59tjnpYzWfm0kl4JmslmR12ugLRGhkEJQ8d1FEXMKTUAVGRnjZBNHzAKIy/F4YQ9YDqrRBCVA/J2OrDTBAGCzN4zC61JjA6GETEECMqpsgmDB4Q1fGcc85pZLSJ6qCZMyGEEEKIZoL1zLjgMQvXmnDBVlgLxRonkU2Y5WTtN8FC8C4S1UfGmRBCCCFEM8HmwxgorN9tLeA6x3oq1g6j9BeKJCiaB5zrWFIwYsQIux4zyb1XVB65NYq6RvVWCCGqh2SsKAdmXc4++2z790orrWTX1DFTiMLPmjCChbAOmXVVQohJaOZMCCGEEEJUHKL9sc3Ad999Z4OWEAGQoCDAhscE/pBhJkRjNHMm6hrVWyGEqB6SsUIIUVs0cyaEEEIIIYQQGUDGmRBCCCGEEEJkABlnQgghhBBCCJEBZJwJIYQQQgghRAaQcSaEEEIIIYQQGUDGmRBCCCGEEEJkABlnQgghhBBCCJEBZJwJIYQQQgghRAaQcSaEEEIIIYQQGaBNEMIfw4YNsyeEEEIIIYQQQtSeRsbZUkstZU8KUS+o3gohRPWQjBVCiNoit0YhhBBCCCGEyAAyzoQQQgghhBAiA8g4E0IIIYQQQogMIONMCCGEEEIIITKAjDMhhBBCCCGEyAAyzoQQQgghhBAiA8g4E0IIIYQQQogMIONMCCGEEEIIITKAjDMhhBBCCCGEyAAyzoQQQgghhBAiA8g4E0IIIYQQQogM0CYI4Y9hw4aZpZZayp4Uol5QvRUiu/z111/mn3/+Mf/995+JupqiaNOmjZlyyinNNNNMY6affvrobGmUk5ZKpqPekIwVQrRkJk6caPuGv//+u+j+Yc4554z+qiyaORNCCFFR6OB+/fVX8+eff5p///23JMMM+B2/5z7cj/sWSyXSUol0CCGEyBYTJkww48aNs0c5fVWlkXEmhBCiovzxxx+2o6sk3I/7Fkul01JqOoQQQmQHZszGjx9vZ82yhowzIYQQFQP3wUobZg7uy/3TUq20FJsOIYQQ2QKjLIuGGcg4E0IIUTGq3dkVc/9qpiWrnboQQojCsMYsq8g4E6KZwLf5xRdfNF26dDGzzDKLueSSS+xofK9evUy3bt3MTz/9FF3ZfJx77rlm++23Nz///HN0pnbw/uQD+aFZivqh2uuxirl/NdOidWf1wQcffGD23ntvM//885vjjz/ejB07NlMyduDAgWbdddc1n332WXSmdmStvxGToWyOOOIIe2Sx/8t6+tKQZRleVeOMxn755Zdb5RPBiAK6/PLLm3322ce8//770VVCZAsMEuqqfyyyyCLWSMGA+vbbbyuyaPSll14y3bt3N0sssYS5++67zcILLxx9I0R9gazffffdzc0331z1BdXF3L+aaeHeP/74o31v2m+137slUSsZ++mnn5qDDz7Y/n3DDTeY1Vdf3f4thGid1LKvKoeqGWevvPKK2Xzzzc1JJ51kXnjhhYYF1N9995257777rNCsBV9//bUV9r17965b617UnqWXXtqccMIJtt5wHHLIITac9nnnnWfat29vzj///LLqEy5RTzzxhFlzzTXNqaeeatvKDjvsYMN09+3b19x0001mrrnmiq5unfD+5AP50drCl6eBUb977rnHHH744c0ys+kgHXfccYeZaaaZzI477hidbR3MM8885rDDDjPXX3+9DTkv0lNtGQvPPPOMmXbaac0ZZ5xhOnfubHbeeWcz++yzS8ZGqL8RWaOa/Vo99VVVMc5GjhxpBSzT9Ntss415+eWXrbVKCGJGxBhlJHNqwZtvvmmVX1wZhEjLggsuaA488EBz5JFH2gN3GAYVcJHZd999TZ8+fcw111xTcrABhASKx9xzz22VByGKBQMf2cqAV3Py8ccfm3vvvdcccMABZuaZZ47O5ufBBx80iy22mP0f2YzbGcrzl19+GV1RW1waOIrtK9ZYYw2z3nrrmVtvvTXTaxiyRrVlLDAoPOuss6aul0KI5qWa/VopfRVcdtlltr9yB5+rTVWMM2arnn/+ebP44ovbkbGVVlrJbt7JqNhss81mZwnoiIWoNxhdPP30080xxxxj3WSGDBkSfSNE64NBBgws3NWXXXbZ6GxxMHqPos5ABbMa9cZUU01lttpqKzsT/uGHH0ZnRalIxgohKk25fdVuu+1mjbuvvvrKzupVm6quOWNTt3wjiXRkq666ql2PhutjHM7xHe5eY8aMsQtn8U3HL33EiBF26nPjjTe251jXRnAF50PKrB2LbPfff3/7+cYbbzTzzjuvvfb111+359jjgJm14447zvqi8x0Fh0H5/fff22uA6zkfTyfPwm+V3+HDqgW1rQOUsZ122snMMMMM5umnn27kt0x9RwC4IB/UmzPPPLNR3WC9BXWROhmvl8ymscDWD8LhznEwqt+vXz+zzjrr2N/E670Pz7zooosa6jZthTaT1CaZ0e7Zs2dDPWdE+6OPPoq+LQxpJc28W5xc3/3222/miiuuMB07drTpI52MliM3wP3OX3Ds34u8uOCCCxrSzKwHo+5J8H4IVNa1uPf74osv7H38vC5EPJ/cM5Puk+/eub5DJrEWkfuSVvKFgaw777yzkYsXstDVoWeffdYsuuii9lru63D3olMhrdyPPOAdfKg7yEFmK1z+IHNfffXV6IrcsOaK67bcckvbHtKywAILNPq/uXEGIkcpLrS46FF/X3vttcS2KIojn4xNU6+drnDWWWc1ah+cT5KxwHcuMAcj97hAOrnEDJ7f/hzFyFiuJT3uWu7Pc4qpL8XKlEIyNikv3LlS+hv6OmSje7+33nrLDBgwIHXAk0LpdcTz0qUr6VnF5hnvxoBAjx49Gt7Flas/ixvPpyuvvNLWxQsvvDC6Ip0+kAZmk3x9l/8pl3id9Osw+bHhhhvadvTLL7/Y72kjJ554YkO+8X+uup2UD5QLeZwPZrx45nbbbWf7WEfadpuvXyNNte6rmouqGGdk6EYbbWTdG6mIBP9Iaszt2rWzvuW4HpDh/jVYuaxb4zsq4hxzzBF9M6lRXHzxxbZgXaXCaMJn/b333rOfp556arPkkkualVde2X5eaKGFbJq413TTTWfPUXFwp7j99tvtqO36669vn0cjO+igg8zw4cPtdbit/O9//7Pf3XXXXeb333+356mEKE3zzTefnSaVz3brgTpO3aUOsIkhILivuuoqK/wQkA899JCtXwgZ1qUgHACh9cADD5itt97aHvz96KOP2vqaDwQ9dZNBDUaWEap0Zn69d/AsnvnUU0+Zo48+2nYQCGr+Jo1+J0M7o4OinbJGFJ9slGbS/sYbb0RXVRY6Jxbq0+FgiJBXe+yxh123k6TYxMFF+uyzzzZ//vmn7cxJN/nCaHvc+EABQiBjRJ1yyikN78fzi3m/pHzCO4BnViKfeG/W2eyyyy5WRl133XXWBRzFn2ecfPLJ9n0BZcnVIeQTHSZ1iLoFyFLcNxicQvaRVjo46isBmfw1v1y36667Wvcvnnnttddalw9/gCoX33zzja2DyyyzTHSmeHhXOuRSDaMsgJs+fQ39mOsfRHkkydi09Zr2QXvgnN8+OF8IvH6Qsyh9tD/KlQHceACBYmQsyjJKKW6bKJbIO9JCm3788cejqypLuTK2mP6GfMcYQyZRNuQF73fsscemfr+06U3KS3S70047rSJ5+fnnn1v9j3bMejzeZZVVVrH6Ju8XB6MDPZBBfYw0V+5p9YFC8O640WG4kAZXJ+nLOJIMK/oo+ox3333XpoM0YoAysMjsD+VCeqjjrMdE7qNzO/gN62jxciOdGMJcTz9B35sLrqWtMJlCu6R/hGLabb5+rbn7qpoSZpolzJzor8owaNCgYLnllgvCjAvatm0bhMZLECpHQVhJoismEVZ8e02o9ARh44zOBvZvzoUKazB48GB7Liwoey1HWLmD0aNH2/NffvllEFYie75Pnz5BWLHseXC/CStlECo20dlJhMZZEFrowbhx46IzQRBWlmCrrbayv+G3jrBgg0033dS+S9i47Htcfvnl9rrevXsHEyZMiK4UtaTS9RZCgRyEwiAIBUx0Jpn4dY888kjQsWPHIOzM7GfHJ598EnTo0CEIjYjoTGDrInUyXi/def++7hx17aKLLmpU14YMGRKEQqxRvQ8VmSDsEIIePXoEYQdjzwF1tn///o3aVNiZBHvttVcQGgTBqFGj7DmHa8Np8oLvuY48iZP03XPPPWffJzScojOT+OOPPxrez/3OzyN3jnYYdlaN5AntkvO33HJLdKZy71fKffLVo6TvqD/t2rVr8l78HXaMTd4tqa44wk45WGuttWw++/caOXJk0LVr16BXr15B2Onb+tG9e3dbV/x6GHbUQdiRRZ9yEyol9n7kjwPZXe0jLUm/reThQ12m/dOvtCSyJGPT1mtH0nNytRunK8TbOO0A/aVLly7BiBEj7LliZKy7NjQgbF/gw2fO0z+ERkh0NjfFyJQ0MjYpL9y5Yvubct8vTXpLeVYxeQZfffVV8OKLL1oZ6HB1YM899wxC48Sec/lEvUCGhkZdozpZjD6QhF8OpJN3d5C2fv362T7h+eefj85OqsPt27cPQuM1eOyxxxqVHTI6NHQa3Yfv0V87deoUfPvtt9HZyX1pvPx9XPo4+Bs9+qijjrLv9sYbb0RXTaKYduvuGy+X5uyrTj311ODAAw8MQiOwyXfVompujSyQZpZpiy22aJhxwgpnBCZ8oegqY0cAsJAZncGKdjA6gpvXJptsYpZaaqno7CQYSWaExc1UsUCPwCPAbF3azUGZuWN/D3+KkxF1RjkA31IH1v5+++1n3yVsACYUvPadGNnD8scNQ7ReQmFhQmFsR3xCRT06OwnqJ7OyoVBOHOVKCy4FzKr4dY3RZVyD/XpPUIVQCFpXWz/wDms+Q8Fp3QEYPQNGQJlZws2PyHM+RJJkLU01Id98ZpxxxlRtiXxmNox3cuBHTl788MMPDSPc+d4Pl45NN900+pSfSt0nF67+bLbZZjbP/ffib+Tgtttua9OADMpH2FmZsGO2o5DIJ/9ezFAxuj906FA7iuigXoadcPTJmCmmmCLVgmlmKZGZCmpj7Gguee/nq6gcpdTrUsALxm/jtIO1117bzgq4excjY7mW2TX0BHQXH3QbZi+qSakytpj+Jt/7oQMWQ770VvpZSfCO9NfIQAd1AH2R2TRmlXwoZ/oFZolcnaykPoB+TDn4Mpa00f9RFnFXapYj0EbIC7/siPeAi7x/H75nJon0hkabPUea3Gwk+nGaukKeMIvFultmxEJDLPqm8u22tfRVVV1zRiCQ/v37myeffNIaTygVuCP6U7q4sqB40NhxGwIqGr6pXE8FifuH8hsK1Qe3RGB6sxgFmMaGkCXcPlPknTp1Muecc0707WSoUFRsplQffvhhKxww3hDk2p+q9YHAQZghuBAOY8aMse4Q+MejpOEn7Q4GEXAPKbZuxqFzQMD6TDnllLZ9+PemXiKgUfT9dHDgO44LnnP94zru69wPfBBic845Z/SpspAOjBA2QEWojx49OvomHXRwdNo+pJfAQ6NGjWroaOjMEchJbRQXurZt20af8pMvn4q5Ty5c/VlhhRUS/eE5x354lO3YsfmjCbI+AzcRfz2jf+B+wwAZ9yEPMSzpPFk7wYBYXPkQ6XCdvqt7ojziMraYel0qyCXkRRwMMGSAW5tUjIzlWlzB0IfioFfEB3sqRbkyNm1/g+7GgFhSkAXeD2MnDWnSWygv0z6rELwbspB+m4kAdFRc+9BbkdU+pJv+yKeS+gByP6kfpmxYCuH3dw4MOt8IciDbcXnEZRH3Www45D5ry9x7sT6NyZHVVlutSfkngdsl+jPBe/jfTW44KtVuW1tfVVXjDBCqWMy33Xab9ZVlBgofUioHwpfGTmEi/Kg0GGQIQDKeCsaIVbXAGMRq32677azRSMNj1AuBmwTWedeuXW0aiUjJTGC5I+aiPkHgsGYRwUlnhXBk9AlBQ/1OOk488cQmBkUx0FbSQP3EiEBYJqWDgzrvrqXtlZOuUkAhYYN6ZoNYO8YMOj7ydFhpQK4kdT5x6ODp2NJ0Mvmodj65+uMGmZJAdvojnLmgw2LQiQGkpLLnIJAKBiV5yH4vrAFgjS2yjwEqRk5lpInmJC5ji6nXpZJWrhQrY2nX9SZj0/Y3yFiMk3JlbJr01iIvWTeKDCTOAH9TzhgD1LskmCWNr5WtpD5A3U9bFrDiiismGnO0JfRXZtxYm0d+4w3GZIkPeYyBRn+TBmYyr776aqtLo+vH20+l2m1r66uqbpw5EHpkJgsi4e23325YWMhiS2bIiOyD0eNcGjHMyh2RzgWVj8WaRH1klIaKyzQ0AUxw50qCxsa0LUoaAoIZwXfeeSf6VrQmGGmijiKMmK1BeHLwN+4gSQf1qhZT6qSD0TQ6zKR0cPguIbinMPpVaxhBZA9CXIRZzM1CfGav3YhzpajU+1Uzn1z9yTe6zXcoQMiffCBrmW0gKBJ1Lqn8qbfuPlyP/GVEkk17GTFnIT4DaL67jMgPdYM6QjmK8onL2GLrdTUpVsaiO7RkGVup90uT3mrmJXrhpZdeameNmBm95ZZbrIGI51fSjGounDyvpj6Aax8TGTyn0IAC+YWeS9tBzyaYCvsKElUx7g3i0p6vL/IhbwiWQ1A+IpdSPj6VbLetqa+qmXEGVCAyNw4KB9PGGEhEl8FwA2amqNyVgFk6HyoehiDClRk6Kg8wzYzBFoeCx8JnnRlRiZi+BUYMENKi9cAMKxECETTMtAKdCi4VTN8z8tScIGwRdCg3hWBUmsEQF5nUh44qV2j6OLQfZpbJm/jMDu4Szo05CSKx4rOPYKdN0nlUikq9X7774CvPd3EoA96d5/gkyRhXf1h7G+/cgHN8h3smbjKAPKUTjeNcIFnTUIyLF7KZtQLUbUY5cffOF5kLSA8uTc2heGYN8ooR9Gq5ArcmkmRsqfW6GhQjY9Ex0BFwsY5Du3H6ThqKkSk+1ZSxlXw/R6705nsWsyfIyDjF5JnTCzEY+J2DQZf47/NRSX2AviXp2chd1rvhVukikOeCWWjug64bNzLjRlihvigJYky4iJ4Ygf5MVrHtNle/5tMa+qqqGGcsnsenltCVVGqgIWDpsjcD4CvrT+liOTPSxGwU06QI5UqEvHSFzChIkmKFDzONEeNr4sSJdop04MCB0beTIZwrhhibpBLmlelUjDTSy7q6uPEnWh7UEVxv2feDkTx8thFkgGFCHWb2FZcBfxSHv5lhrfRoZS4QrKSFLSLoHHwQTOwb5AwohDVrOAkF7Ati0sx1jFymgbaMwsJIN+3egZC+//77mygxuDnQ3nxQarlPJcOpV+r98t0HGcBIXhwWgiMLUSz8+oCrTPx6fO9ZPE7YZgaB/Ov5m/DLyEWuobMDOmRcU+Izegxo0Vky+oxsirt80KGzABv4jo7bx601pBySBtN86PCQq2lHWVsytDXanpMJonio67lkbDH1utoUI2PRdRjtZ2A3PkiFbKC9p6UYmVIrGVup90uT3nzPou8h1HqcYvLMwb3j16IbpqWS+sCgQYOauO7RB+FS62bm0oKR6vcV1N14ntEXod/SFxFfIV4mSWBQsc0MIfrZDgb936W32Habq19rbX3VlKG1ezp/UGi8ZCXA2MGaxZg577zzbIANfEqJckilJ2IL+zNQAA4qBIYSyg+/J9AGjdCfrsXAopIylYlfsi9gcn3H76ncKIf4qrKHBovuaeR0AjQSN0XKvgkUHm6WXE9EHSoVhiXpp6KSLvx2qRTOtZGG75Q3UVsqWW8drEVE0CMAGfXjb+oHUYh69+5tR4Go19QTB/UM33NmfxFMjNBwDsHD7+hMWOzs0oqgQeEGBCFT/uDOMwrk6nGuayHpeifc2C8Ewct7IOR4B1xGGL1ippr7MAtD54dAdXt1kXbegTbA6BTXx9tbHAQjz2Vgg1EsBDJtqW/fvvZ7PjPqSXsCBD/uIigwCFwiTrF5J6N6+MGTJtodbZqZdffe7hxtzd3LkXR9/P1II8Yj78dIHpEW07xfvvvkyic6aEZ4GZAi/3FDQQbiGs3AEyOq/vXkD/egvjDKSZ5RnxiNRP6wxw37+/idEG4tzOK7zh/PA5QR8od7kV4GlpjZRK5yL9Y6sCkq1zAiy94zKB/cg4i5uPKwRvjQQw+10cB8GRyH75CfyF3nxkU5VBs67j333NP2Jwzk5UpjtdPiDGXa2E033WTzwPVbPJt+DlnBumoG9uqRrMhYSFuvHTyHNUt+O0uSmYAOQdtmrVj8fZ1+QZ3j/sXIWK4lEAJygLbC83k2bQxllUBjtPek58YpRqakkbGV6m/890NuEeCB90PfYo1TmvdLk958z8qVl8XkGe2Z3+Mm566ljImX4OSlu3e+fKL9F6MPJOHuz/vTlxKpl3swo8XyG96ftkI/6ORfrjpMPiEr0ckxTkgr96bvQBfGg8TVbeAcdZg2iOFEn8MsI8/EyKLfjL8/OjHtlX6EGU8GMOiLSFux7TapX2PD6ebqq8hT6uQGG2zQ4GXncH1ApanKzBkvj1JGQ3GLCumYiAzDNCSVncL3oWCdssWmzn6FKwcaH4pNhw4dbCOkU6eBk6HYpSyGpKLSaLiGykOl8mHkB6ORAiXsrSscjDx8dqkkVPpipr1FtmFEiUEF/N45qLMIWzoQhEFStCg6a+oBChkKB3WDyFPUNQQ0CketQBlkxop2xAgbwg9BxrpPNj51CgltzC2yZfaXwQeEJe0WAesPoBSCNaKs42SghU08uQ9GS8+ePRue52CxN/lBIB46KfIHZYYF4cU8sxDx99trr70a3o9OMu2z8t0nVz4x4s8z6PipFwxYOYM1LmOAesKGoK4D7datmz34DXWOfIx3DAQk4hkojigwLhyxuxcRsrgXIb8pW/7mXpQLoPCgPNEBU19JI50mhgbvW0gG02GyEBzFAWWmVqBwky+MTleinygXDHUUI+pwFtJTD5QiY9PW61qQVsYC16JD8H4Yb8wMohjiAhbXhfJRjEyplYwF//0wsNz7FdPvpU1vrmflysti8owyO+mkk6wRQH3iWiYNMBSS6mM+SHMl9AHuQ4AUXD2POuoouwk4/QADoUwUpJE3eJDRTqh7eIvQbpi0IA8wOOL4fRHGL9czMMjgA/p9Lsg/+imimvM/xjmGVLHtNqlfq9e+qlTahBlnTVOs2fh+YrWGgmBxHwXHiAkFKkQ+slBvRX3CQA1KIaOaDBphVJYKHQmj/4zO0om2JhhJxRjHMGdElZmWasNIJgoxI9z5Rp+rnRY3go7yxGgvxkZ8IKLekYwV5YAhguGNYp42AmCpYLAQ0IMAFcUYvaJ1UGpfddlll9m1jhjaTO745Ot/yqEqM2elgFsAvrnAaKgMMyFENUGZZhSOtXKMyonSIHQzm6Qya4AcrzaMJ+KSjnt8FgxhRsWJVMZoe0szzIQoB+QBbni4bNerW69oOdS6ryqHTBhnLDhkPRfuDLhCMnUphBDVArcGXBRxZ8ZfvlB0KJEbXGzwdsBFBTlebbc+fP9ZL8ia4ELPqmZauDfrOHC7YqNaoqYJISbh63XIWD/6oRDNQbyvyjLN6tbIyDX+pG5RIVPe+A27tWdCFEIuNyIfyBjWf7BfIouVCRbCgm8EM65x7PXCYuL4Wq5iac1ujXEIFoCrX7WgrNx2AoWoZlqKSUc9Ixkr8sF6L9x6gXVZxAwYOXKkjVTImjwGLnAfr4U3lNwaRTGwlo2gL4XArZG1kA72ayZAF7RIt0YiwNDBMaJCGE4i2MgwE0JUCtwVO3ToYCMqsnCcheYuAhjrIAgIVK5hJhpDZLBqUsz9q5mWar+nEPUA7QAZS2A0gqwhYwnUAWx2TCAILVMRWSStDMcQIzCMO5xhVk0yFRBEiGJRvRUie1RrxqqU2apqpKW1zJqBZKwQoiWC6y1u8gQHK5UWHxBECCFEywBviErPSDovi2KpdFpKTYcQQojs4PZn9feoywoyzoQQQlQUAqwws4Q7E8ZMqYE5+B2/5z7cr5TALZVISyXSIYQQIltgmDHYhmznbwy2LCC3RlHXqN4KIUT1kIwVQojaopkzIYQQQgghhMgAMs6EEEIIIYQQIgPIOBNCCCGEEEKIDCDjTAghhBBCCCEygIwzIYQQQgghhMgAMs6EEEIIIYQQIgPIOBNCCCGEEEKIDCDjTAghhBBCCCEygDahFnWN6q0QQlSPSsrYMWPGRH+lo02bNmbKKac00047rZlmmmnMFFNoPFkI0fKRpBNCCCFE5mDs+N9//zXjxo2zx4QJE6JvhBCi5SLjTAghhBCZ5p9//jHjx483EydOjM4IIUTLRMaZEEIIITIPBhqHEEK0ZGScCSGEEKIu+Pvvv6O/hBCiZSLjTAghhBB1AWvQ7r77brP77rubH3/8MTorhBAtBxlnQgghhKgbtt56a9O2bVtz8803W2NNCCFaEjLOhBBCCFE3TD/99GafffYxTzzxhBkyZEh0VgghWgYyzoQQQghRM7788kvTuXNns9hii9mDvzlXDEsuuaRZY401zF133aV1aEKIFoWMMyGEEELUjHbt2pnHHnvMfPXVV3b9WCmwMfWWW25p3n77bTNy5MjorBBC1D8yzoQQQghRdyyxxBJmyimnNB999FF0Rggh6h8ZZ0IIIYSoO+aaay6zzDLLmI8//jg6I4QQ9Y+MMyGEEELUHdNMM4010H766SdtTi2EaDHIOBNCCCFE3YFL43TTTWf++usv899//0VnhRCivpFxJoQQQgghhBAZQMaZEEIIIeoOZsvGjx9vZ9DatGkTnRVCiPpGxpkQQggh6g7WmbHebP7557fujUII0RKQcSaEEEKIuuOXX36xm1cvu+yy0RkhhKh/ZJwJIYQQou749NNPze+//26WXHJJ+xk3xyuuuMKsvfba5vXXX7fnhBCi3pBxJoQQQoi6AkPslVdeMe3btzcLL7xwdFYIIeofGWdCCCGEqCvYePrJJ5802267rZl22mntOQKD9OjRw7zxxhvWaBNCiHpExpkQQggh6gb2Nbv55ptNp06drAujEEK0JGScCSGEEKIuCILAPPLII2bEiBHmoIMOMlNNNVX0jRBCtAxknAkhhBCiLmA/s5122snccccdZp555onOCiFEy0HGmRBCCCFqBuHvO3fubBZbbDFraBXD1FNPHf0lhBAtkzYBPgIhw4YNM0sttZQ9KUS9oHorhBDVo5IydsyYMdFfpTPjjDNqw2khRItGM2dCCCGEyDzTTDONPYQQoiUj40wIIYQQmQZ3RmbMpphCaosQomUjKSeEEEKIzIEhhlE2wwwzmJlmmknrzYQQrQKtORN1jeqtEEJUD8lYIYSoLZo5E0IIIYQQQogMIONMCCGEEEIIITKAjDMhhBBCCCGEyAAyzoQQQgghhBAiA8g4E0IIIYQQQogMIONMCCGEEEIIITKAjDMhhBBCCCGEyACN9jkTQgghhBBCCNE8aBNqUdeo3gohRPWQjBVCiNoit0YhhBBCCCGEyAAyzoQQQgghhBAiA8g4E0IIIYQQQogMIONMCCGEEEIIITKAjDMhhBBCCCGEyAAyzoQQQgghhBAiA8g4E0IIIYQQQogMIONMCCGEEEIIITKAjDMhhBBCCCGEyAAyzoQQQgghhBAiA8g4E0IIIYQQQogMIONMCCGEEEIIITKAjDMhhBBCCCGEyAAyzoQQQgghhBAiA8g4E0IIIYQQQogMIONMCCGEEEIIITKAjDMh6pCBAweadddd13z22WfRmfz89ddf5pprrjGrr766WWSRRcw777wTfSPqgfvvv9+ss8465vXXX4/OVB+eNcsss9i6Vmm4N+/DewmRRZCtyNi09T8IAvPiiy+aLl262HZzySWXRN+0Ln766SfTrVs306tXL9vvtER4ryOOOMJsv/325ueff855rtaQBvKd/KccWiqtoa1VxThzlTRfx57mmloxceJEM3ToUHPiiSeajh072jRx8Pdxxx1nPv300+hK0dJBqCJcqZvU0Vyce+65zSqEi+Hff/81l19+uT323Xdfc9FFF5lpp502+lYIIWpHS5Sx8NJLL5nu3bubJZZYwtx9991m4YUXjr4RQlSS1tDWWv3M2dixY82xxx5r2rdvb6644grz/vvvR98Y+zezDf45IeqNESNGmKefftocfPDB5pBDDjE77rijWWGFFaJvq893331n21itZkmGDBliDjjgAPPWW29FZ+oflNTXXnvNyql6AcX72muvNb17926ihPMevA/vJUS9888//5gnnnjCrLnmmubUU081m2++udlhhx2ib7NBreTwXHPNZW666SbTt29fM/3000dnRSXJ1ceR3+Q7+U85tETqoa1VglZtnP3444929O766683M800k63szz//vPn666/tQQNg9G6GGWaIfiFE/TF+/Hjz559/mnnmmce0adMmOls7fvjhB6ukT5gwITpTXT7++GPTv39/899//0VnRHOAQUYnygCYEC0ZZA31fe65586sV0Kt5bCoHq25j6uHtlYJWq1xRgHfdtttdhRpoYUWMrfccos5//zz7ZqcOeaYwx6szWG2Yeutt45+JYQQQgghhBDVIZPG2bfffmv69OljDSXWfi2//PLmyCOPNKNGjYqumMT3339v14m56zbeeGNzww032FmCQgwbNsyOPABT/Z06dUo1q8AzWXzYuXNn+8z555/f7Lbbbubll1+2ixR9avEeIjv89ttv1jXWrVukPCn/cePGRVdMgoW6rPvyy/uee+4xf//9d3TFZLj2rLPOarh25513TqxrSbi1HfyWWeD999/f3iO+jsOlx6WbetqzZ88mwUYYrWKmmYPZkCuvvNIOYFx44YXRFY1xz99ss83sZ/f8eCAT3vvBBx9sWNzL888888yGBc18f9JJJyUGQBk8eLC9/uabb7Ztmmt4DvDcpPeN4wJf8D9uIuQxn7fYYgvzxhtv2LymjR5//PH2fTnOOOOMxBkh2ixt18kHrj388MPt7338Z3700UfmwAMPtLLEvXv83qzLddc7OOfyBNfrvffeu+EeJ5xwQpNn5gtwkO+7OGneEY+DRRdd1Dz77LPmxhtvNPPOO6+91t3fvX/8eeQ1dbVHjx72PbiGekm7on35uPrFs8ivCy64wP6GPCAvPvjgg+hK0VJg/Swu2rgxUc7UPco6LhcKyRQfrkX+uvpMoJp+/fo1ccXNBfWP+k099+u631bTyljw2zVBDzbccEOz0047mV9++SW6oin58iWtHGbtPWt5+B2/5xry5M4772ySF778op0hM9dff33z5ZdfNjzPX1MY7zvIX/KZe1BGvGdSn4YOhWwhPbwXcvKLL74oej2iqw8ufzj4Ox5PoJhyKgZ33zR9fr60kg7KLVcf5/I5KW+S5DZr0N98880mee/XQfQN1yeSfpb6xOtD2naZi7T5nqattRQyZ5xRAffZZx9z3nnn2c9U4vnmm89WIL9z5vP//vc/22nPNttsZqONNrJGz1FHHWVOOeWUgoYNCgDPWmONNexv0xhmVEgUAPxcf//9d5u2tm3bmkceecRWXlwiHbV6D5ENEC7MsiJwEUoPPfSQ2WOPPazB4AtgXGkPO+ww89RTT5mjjz7aCmE6X/6+6qqrrJBzIJgw/O+77z4rRLknHdrJJ59sHn/88eiq3Mw444zW6EcgL7744lZhf/TRR+05vgPXsbKolmfxPQMIKPvbbbedFcxx6MTpsLkfHa2fZh/3fIQuuOfThmg3wG95b66jM+AdeT5KPflEfuG6sNdee9nr+d65ctAemfGmDZNWOgXuzXOA58bfNx8vvPCC/Q35QAeEOyhGAmnBMKMTwAjE/ZnveVa8cyXoytVXX2023XRTm1YMayJj8nvqSBwMM5RG/OfvuOMOs+WWW9rfJ907F8idY445xq7jolzouKlf5BmKTKVJ846Ux4ABA2zZ4HnwwAMP2LKg/uaCcr3rrrvsGgLKnfvSPngOXg0oZpyP8+uvv5qzzz7bykrkKIb8hx9+aPME5U60DKgfDAhRv1dZZRXbXlDW6E/HjBkTXZVOpjioM/TnGADLLbecrW8ohfTp9N1p+l/qOvWbeu7X9SWXXNJ+X4qMBb6nDr/77rv2nZC7SRTKlzRyGFlDG9tll13MdNNNZ6677jqb3qWXXtqmgT4nKS/cwDLuy6TDyeZc8BzSSvs8/fTTrRwlnayFfu+996KrJkG+IA/JP3Qh3muBBRaw/SyDZmlBJlHulDFlwn1Yk7XSSis1GjgttZwKUUyfXyitlFcpfRwureglF198sdlggw1sm6CO0H/zbugtScYxfQvlhdFFvqy88so2SB79oLs+bbvMRTH5XqittSjCDLaExkT0V/mEjTgIBVww88wzB2EHHZ1tTNI1YSUNwgZrz4UdbBAqR/Z8KJSCUIkJhg8fbj+HlT0IDZogFKZBqFDZ7yE0aoJQuNjfhw3AnkuC68PO3F4XKl82LWngumuvvTb45ptvojOBTaNLM+/DNbV6D1HZeguhMAlCAdBQlrno27evvY7r4bnnnrPlFQoS+9nxxx9/BBMmTLB/Uw9CIWrrXGjc23NAuffv3z8IBUwwePBge85dGxrrwSeffGLPOfjM+Q4dOgSh8RedzQ3XcG28LYaCOQgVeFvXqHM+o0ePDrp16xZ06dIlGDFihD3n2iznunfvHnz++ecNdTYfr732ms2bJFkQKkFBx44dg7Czjs5MgnckzaGybT/znLCTCkJlPxgyZIg9FypbQdgZBKHyYj87eA7P47lpcOnr2rVrMHLkyOhsYJ/D8/iOZ7t3pTx79+6dmP9hp2fzzod0hp1qEHYi0ZnJz4yXr7s3zx06dGh0Nvmd3DnSHSpJ0dlJhIqOvUefPn2sPIJc9QCSvstVbmnfMV9bSro35YgsDBWOhjbjCJWxJu/j7s9zBw4c2KguuvSExnt0RpRKVmQs/Wbnzp1t3+2XNbLSv09amQJc265duyb1J1SEg6OOOiqx/ifhZGP8nYqVscDz2rdvH4SKavDYY481aQtx0uZLrvYMufKBv2nv8bbk7kX6kY3+c5LK1+UPv4m3bydn/badL98GDRpk5YRfN3Lh5CnX87tclNoX+mlIOldMn582rUAZkpd+fwD50pCkS3B9aOjl7G/i+REaXMEBBxzQKC/S1r8kSmkf7h05Ct2/nsnUzBkWeFig9u8pppjCTDnllPZvZrXCCtswyhNWSBMKLWttr7feeg2zXgQ8CAvS/s01RHVJgmeEFcH+7Z6RBiLhMGruh+1kVB+XSAiNNjuaX6v3ENkjFBbRX5NgNGuqqaayf+PyERpxZvfdd7cBaByUe6g0WFcAFvoC1zLSxuwro5c+Sy21lB3JKhdGKhmVYkaCOudDpKdQaFo3P5cmB5/5DbNxrs6WAnnFCDUjYLQLn8UWW8y6yYSdiW1TPCfscOx1zK4wEohrDPnDqGIlYJQWNwkHbnmrrrqqdbVgNse9K+XJOWbfww7QnnNss802TaJksaaV9wkN9ejMZJhd9cvX3ZuZ97QuO3vuuacdUfYhGif5ysx82AFGZytDse+YBmQmspDQyLvuumtDm3HgTkP5v/rqq01mz3hPys6vi8suu6wtO+pJ2M9FZ0VLwPWxDvpgFxWwGJnirsU1bKuttmpUfwgCxig+3i7lUKqMZUadWWZcq+NtIRf58iUf+fKBvzfZZBOz7bbb2veIt2/egfaaNiojsi1UxBu9k5OzI0eObNB18uUbsoDZ9DR89dVX5sknn7Szbcyi5qLUcipEMX1+2rQWSz5dgnKj/wB0zTjou35+hAabWXvtta0MZmbMp5T6V618bwlkyjibZppprJFCJWZdF8IRP1YK3UFHi+AC1rrMPvvs1t3IHRQyxCuKD8ZSWmES599//7XTrUR4ZFqaToB0+tTqPUR2wEeajo0NIImINXr06OibySB8KXPnJ+4f/B5XDeeGxbW4ayUZHgj2uCArBdLSrl07a2QlwSAEyjJ7APqQVhSdcsGw+fzzz+26vFlnnbVRfiCYcZXAbca1G9x+ce985plnrEsMHTkdfTEDLPmId1zcFyWNPOLZPrnkB+2aNOOigbti165drVGBIUeZxok/E9y9MSwKQdmRvjikHQMFN5lKG2fFvmMacNnBIEWhJhhTHN5nmWWWsa6+bmDNQV2Mu/SgGCCHudYNlIn6huhsDITipo2cRS5NjLn6FSNT3LUMZCRFZOY3PLMcSpWxsMYaazQylHKRJl/yUSgfOEcaadtxWUIaaWtpSZKlTs76sh6DggGnpP2rkI9ugLsQ3JN0Y1Dky8tyyikfPDttn582rcXCPXPpEkBeYiAjW/2JANIXH/QD9FreyQ0ellP/qpXvLYGqG2fFGhaMUF922WXWhxQ/ZvZkYr0WPrIUuD/rRYVnD52kA+Mol9JGp42gBipkvoW2PowW7Lfffnb0B8MMq58RYxbrxqnFe4jKg+BnNKtYMJZYi8MII+tf8M3GVx+B62DUESGEEMNPOulAyXXXIvTSrJUqFZ6BoM31DDrROeecs8loKflT6uCGD22AUVu3BiLpiPvSM9pIRzBgwAA76OHPdJVLrnaWtv3xLhgrGBi0fTo65ADrNXJ1PuW2bZSaYpSjcinlHdPAoBfreKlzyOckUBQYXY8bW3gnVFKZEdWlVBnLbAtrk6h3r7zyil1jSb/KyLubHS1GprhryzXA8lGqjF1xxRXt+TSkyZd8pMkH9Byuibe9JOMpH2nlHYObvH/ckCsW7sPgTaH7lFpOheD6tH1+2rQWC2nIp0vQfyBb4xMBaeVqOfWvWvneEqiKcUYDdMrbsGHDEg00Rkqx6IHCcVDQjMRSsPfee6+d1se6Puigg2wkITpuZpmA6W0i07B4MH5wj1ydPPBbnku0NxbcFoJKNnDgQBt6n4WPjHawwJiF8TwrTq3eQ1QHRoUm5NgPhg4KQx2B55cNBj+Ly6lTp512ml1My0yPGxmjXWCQI4Ax8JMOfyaFzjBtUIhSoI4i9PxF0T6cd4K9GpAfHORhUl5wECjDNz5YSM7MGcYvi4HTDqzUAtJ1++232wXftHGMmO7du9vR5aQR6WpDZ+/yuFJU6x1RBKiPlKc/eutDm0TR8fsLUb+UImORBfSJBO8hUBKwLACXWChFplRT8auVjC2UL/lweZbk7eHgOxTlWrY95EC5/Z97r1z576hWOfH8tH1+2rQWS6H70gZpi+ijpeqapda/5tZBskxVjDMK2EVPwdeVKfM4TOfiS0rFpOLGwbjDr5hobPi9UkD8horGKA6gqDFdWwpEleH+3Be3QmbB8kFn4d6DkQF/dCNfRLBqv4eoLJQXdRcf51zlihsIhjbT7UkjPrhl4ZZKJCU2M6eeg1Mscf8qBG0CoY57Rxw6rLfffjv6VDq4vfEeuSL6cZ7nJ7nNFQN1PalTx5jFnQJ3NtpFIVDccRNm5oxBEdojBlp8dI7nNQfUGVxBMBz9EUc6mHyKTzlQl/zZWQeGPXIFV0DnAksUNgyo7777zn72oU67wbJ8FPOOzuBKA+ly7ivOXcaHAT4GPRipd14Poj6phIxFGUQOEO2P9Tms66GPLkamoPAR4ZU1aElGAOlLI6vzUSsZ68iVL1BIDiMvkBtxnCyh7eEqWgsod7yahg8fHp2ZDP0AEf7S4GbzC11frXIqps9Pm1Yopo8rdF/c56nr6Bzl9p356l8StW4f9UTV3BoZEWBqnkpJiGWmO+l0GQ1j5JUZBoQnLn0u4ylERmZ9AYHi5UZSnWBhoSxG3cMPP2yVNV8I4xpD6NEkpdYH44oRXwwkFF3c0fr27Wt/Rzo5EPAogSyW9aEiO2GOMkFF9Knle4jKQ6hZIJxw3Meeqf9bb73VKrgY3U5BpbziftZMx6NYuFlkOkDKnPpP3fKhPrEu0QkylBe2VSD4BW3GB2MPd4hyYQSZBfKskYs/g7VKvCdutQxklANtDcEfV5ZYXEx+0L7YGsA3svib8OxOeeMzeYFBxsJmDASCabCGBOHu4/zk3fqFWsIgC3XBgQy47bbbrDteteD+LoQ9kFfUD2a36CidvGFklHJgTxjnUg2kkRD8hZRZR9p3pKOmLPi+kHs7A3qs30W2Us64OfpQFzDE8UCopCuraB5KkbGcjxtRyFc34s9gQDEyBUODdNBW3ACaA3lIPSyXWsjYNPkCueQw659oe8gL8iKeZ3gIMcjONbXyAGAmfsEFF7RyKa5H0U/62xblg+BZBDQh9Hu+dUvVKqdi+vy0aYVi+jh0TPY2477xNPB7ZDd1hfD+pZC2/iVRKx2kHqmaccbIB255FBDWM9G0qKicxz+VURECKPTs2dN24kDDQ6hiTSMI8MXFyKNS0VjpmIHRYPZaQOlgdgJFjev5noqIf2+atW5Y9kR8w4ikg2CtEJWAdHJQcTAsEQ4o2Kuttpr9HTNtKD08jyg8rCXzqfV7iMpCuTHzxd4fCAbW07A/CC5c1FnWlhGQwhcYKAIIQMps0KBBdoNz6g5lTJkDnSOzpyi3rJfinrgB8BsGB/yOkWuJ2uT2AOEaOiQ2Pz7nnHOaBKEpBUaO2VMF12Oez0AEaedZGD7M+rE+g7SUA8+hPdHWyFPWi3FvlC5801HAkAPs7Ue0KgYrWNuJ/HBCn5lt9rBiQAUZwm+JWMl9UfD8DpwFzuT5pZdeat0qEPC1cH9E0cPowUUZQ4L3oAyJakXbrgbcl46aekWdo46wKJv1jkRRQ544kDMMhjFQhns1aeSgrFFU06SxmHdkpo6yQhZStyiLfEoVC+EPPfRQu98S9Zv7cz3trlu3brYTZ68ef8auGDBKeQb1SHK1eSlFxjJDTKRQrqFeICuQT9RnfoMiWIxM4VpkK4ES6MeRrdwX+UegIZ6NblAOtZCxafIFcslhQE4QtY88QzZwD45jjz3W7vXIwdrSWsEsHXIFA5myQRaQHsoTgwbZlgaMSX7DDD6xAfw8on65JS3VKqdi+vy0aYVi+jh0V+Qq96XPZA8y0kB/gTzFKGeypNj1g4609S+JWukgdUlYMSyhRR39VTkmTpxo91VgH4XQsLH7JoSVKth+++3tfhrjxo2LrpwEe1zcfffd9nuu4/pQcAehMdRkXx3uHSquQdiAg7BS2Wt5BvtJvPHGG0HY+UZXFoa9G9jDI2wQDffifz7feOONjfaLCBuB3YOEa/g+rEgNe36ERpi9trneozVSjXoLlMtbb70VhELN7jvilwvlxfc+1HP/2lzlDeyTd/jhhxe8lmeERondB4R6xPWh4h189913dh+SDgn7bCXBNVzLb5IgPX4b5f+k9IQGUMn7i7z//vt23x7uHypP9h0cyIGrrrrK5gPf857kpcvnsdFeKPw+nqZQ8bf789DeHPwm7HyCUJmw9zvkkENsG8+Fa7/875PvfZN+454bdlT2O/aVIV1Dhw61+c++TY5czwT3nV9e/B2/3tUB7s9zeJ57bti5JZYRe+nEr/XT6D8zKR3FvCP8/PPPdu8eZBvlGipW9nzSvQF59+KLL9rydvKQZ4XKmZW/PshaZG78meC+88uOZ6611lpBqPg37KckCpMVGRsqn3aPrFxywqeQTPFBpoSGmb0GORsq/rZfLyQ3ffLJCkgrY8G16zSyHYrJl3xymPZFO3N6i8sL2mNcD3Ht15dHjqS2ly9/3HdOf3LwzOeee65B1rg8Q6bE98ArBPnMb13+uzz69ttvoysmUWxf6Kch13tA2j4f0qSVck3q4/Klwd3XryfoE6QtTr46yHf83pV9MfUvF8W0D/eOHPzdUmnDPxhpYSHYaVUh6gnVW9FaIUARI6fMyLs1vkJUGslYkSVYHkLALdZKMQuOW6YQLY2quTUKIYQQQghRKYgHwJosAl0kBYsRoiUg40wIIYQQQmQa1gvecccdNnAQ6/6bKzKvENVGxpkQQgghhMgEzI4ROI4gEwRzIUjEjTfeaAO1XHjhhTbABcF9hGipyDgTQgghhBCZAHfFDh062K2YiBRJ1D+MMiLTErmRCH9p91AUoh5RQBBR16jeCiFE9ZCMFUKI2qKZMyGEEEIIIYTIADLOhBBCCCGEECIDyDgTQgghhBBCiAwg40wIIYQQQgghMoCMMyGEEEIIIYTIADLOhBBCCCGEECIDyDgTQgghhBBCiAwg40wIIYQQQgghMoCMMyGEEEIIIYTIADLOhBBCCCGEECIDyDgTQgghhBBCiAwg40wIIYQQQgghMoCMMyGEEEIIIYTIADLOhBBCCCGEECIDyDgTQgghRE346aefTLdu3UyvXr3MX3/9FZ0V5MU111xjVl99dbPIIouYd955J/pGCNHakHEmhBBCCNFM/Pvvv+byyy+3x7777msuuugiM+2000bfCiFaG22CEP4YNmyYWWqppexJIeoF1VshhKgetZKx3333nbnssstMhw4dzPbbbx+dbR3w7hhl2267rTn00ENNmzZtom/qj9ZcjkJUCs2cCSGEEKJZ+eGHH8y1115rJkyYEJ1pPYwfP978+eefZp555qlrwwxaczkKUSlknAkhhBBCCCFEBpBxJoQQQoia8PPPP1t3tyOOOMIGwXCfN9tsM/v9/vvvb2aZZRaz7rrrms8++8yeAwKJsBaLgBl8v/HGG5t77rnH/P3339EVk4JqcF+OH3/80VxyySVm+eWXtwE2zjrrLPPHH3/Y9V0PPfSQ2WKLLex9+P/FF1800QqPBn777TdzxRVXmI4dO9rreG6fPn3MuHHjoivy49Lrfk86evbs2eid3Ltz7yFDhjS8O+f4Lh/ffvutOfHEExvyg/8JKOIHWfHzY+zYsaZfv35mnXXWsdd36dKl0Xt//PHHZs011zTnnXdek7wAApTg3kreJZGvHJ988smi7j1w4MCG8n///ffN3nvvbeaff36bhyeccIL5/vvv7XU+EydONC+99JLZbbfd7LWU+eGHH27zSYh6Y8rTQ/hjzJgxZs4557QnhagXVG+FEKJ6VFrGYjCghM8222ymU6dONvAFivkqq6xilXiUbw6MpsUXX9xMM8001tBC0f7oo4/MwQcfbLp3726mmGIK07dvXzPllFNaxZ/PGF7PPvusNaxefvllM+OMM5r99tvPPuPGG280//zzjxk5cqS59dZb7T0wJgYPHmzuuOMOu0aqbdu2No0YVj169DBvvPGG2Wuvvew6MFwOef6mm25qpp9+entdLj744AP7XAyLPfbYwxx55JFmySWXNE8//bRNx8orr2wWXnhhm2beff3117f3Puigg+y7b7TRRmahhRYyU001VXTHxmAIkQ+k84ADDrDvMtNMM5kLLrjApi2eHxiwn3zyifnmm2+s0bTJJpuYV1991dx9990N740h9dVXX9m0844zzDBD9DRjDar77rvP5itp5Flx3LskleOKK65o3R3T3pu8IO9nnXVWa2DzG77D6Lr//vvN448/btZbbz0zxxxzNNzj3nvvtUbo2muvbY4//nhrhPKOAwYMMO3btzdzzTWXvVaIuiCs1JZPP/00+kuI+kH1VgghqkelZWxo7AXbbbdd0LNnz+DPP/+MzgbBa6+9Fsw888xBqExHZyYxfvz44MQTTwxCYyn4/fffo7NBMHHixKB///5BaPQEoYFlz3E/7st9+I5rYMKECUHv3r3t+a222ioIDQV7HoYMGRKsscYawbnnnttw/XPPPWevDQ08+9nxxx9/2HvlY+zYsUFo0AW77LJLMGrUqOjsJEaPHh1069Yt6NKlSzBixIjobBAMGzYsCI2kJu+eC57x6KOP2rxxuHcMDd7g22+/tef8/Ljooosapd29d58+fYLQiLPnHnzwwSA01GxZ+IRGYBAaso3yKBe5yrGYe/Nb7tG1a9fg+++/t+cc7733XpN0v/vuu8Faa61ly81PX2iI23v06tUrCA3U6KwQ2UdujUIIIYTIJF9++aUJlW6z++67N5qxIXAGsz64r+GS54MrIbNRLrgGM1Ccgx122MHOwDgWXXRRs+qqq5rhw4fbwBw+BOnwYSYu12yWIzQe7KzdgQceaGfbfJi9YSburbfeapLmYmDWsXPnzo3C7ZOuZZZZxqY5/h68e2gsNkq7e29mEplRhNDAsbNuuAeG+qE9B7hchka6nXErNWBJKffec889zQILLBB9msQKK6xgtt56a/Pmm29aV83//vvPPPbYY3amjBky/x7zzjuv2XDDDc3QoUPtzJwQ9YKMMyGEEEJkElztcHNjLROud/7BGiTc3+Lritq1a2cNGB/nirj00kvb/x24RfpudsB9t9pqK7tRNpEHR48eHX1TGNLK83HJTAJ3xiWWWMIaDOWAyyJuk9dff705+uijrfsgbn0YO7ii+iTlh3tv1m+5dWpzzz23NaJef/31hjVvGD+vvPKKNXaXXXZZe64Uir03+Ue645BursWlE+OMNYAYd7iLYozF6wiule5aIeoFGWdCCCGEyCQE8UBRv+GGG8yjjz6aeGy33XbR1ZNAgc9Fvu8czHixITT7jp199tl2jdgxxxyTGIgiDullho9ZtiQwkljDx3Wl8sUXX5iuXbuaLbfc0q6/Ir2scTvssMOiKxqT5p2B6zDyMHYw8oD1fqzdYmYqbsQWQ7H35nOajbgxUn///Xezzz77JNYNDtbiufWEQtQDMs6EEEIIkUlQ6keNGmUWW2wx656XdMRnwyoBLoinnnqqDRhy2mmnmeeff95uFF0o+h+ugxheuaI6cp7vmUkqBYJ7MJs39dRTW/dIgmkQAGOnnXbKOVtXDAQuIfIjM1rMbBFIhJm1DTbYILqidCp1b2YyqRccBCIhz8kP3CaT6gfGX1IQEyGyiowzIYQQQjQrKNpJCjQGB+fdbEutISIg68cIi//1119bgygfuNzh2sjsVhKcZx1dksteGjDuCDG/xhprNFmPVYz7ZS5wBSSKJmu6WIf31FNPWeNpwQUXjK7IT65yhGLuTXknzVSypu7DDz+06+uYMWSGDTdRDD25LoqWgowzIYQQQjQruPsxOxZ39yNwBTMft99+u3WJ82EWifD08QAY5YKb3MSJE6NPk8AVEVfFQmH0mb1hDRWzW7jt+bD2iTD+hIEn5Hw5sK7M3+ONvCGcfCXgHUg7ecseZBhQGF1pyFWOjmLufdttt9k8cxBIBDfFBx980Bp5GIFstUB+MsPZv39/6+boQ+CVctf3CVFrZJwJIYQQolnBzQ9DjI2S2Vya/amYqULZZy+vX3/91W4wfPHFF5sXXnjBrkFjTRjKuh/9rxKwjotoiDxj0KBBVunHdZDZGmas8sF7sPZr2LBhNn1XX321vQf3Ys8z3onNo+MBOtLC3l9EIMRYPemkk6y7JfdmL7VyAnb4MKuHO+BNN91k36cYQzJXOTrS3pugLMwMUvbkP+9JgBbW/u266642YqODfeGI7Ij7KWvvHn74YbvXGteyzs1FasSVko3F2QuNwCRCZBUZZ0IIIYRoVjBWMIBQ7FnbxQbJLvT7uuuuazcfZoYEQ6RLly7mlltusREcTz755IKzWcVCABBc5TAEidp45ZVX2lDvBAmJh8dPwqUXo4H0cg+MNNI7cODAstbIMcuEwcJ6OAwWthjA+GND7mLXbuWCQBwYgESDZLuCYgzJfOUIae/NWjKMcY7rrrvOGrq4lPLeffr0aRRAhL/POOMMG7ER107yhDzib2bfiBIpRD3RJoiGnBjlYXd3IeoJ1VshhKgekrGtk4ceesiceeaZ1g2zUjNyjkL3xoC99NJLzc0332yDiAjR2tDMmRBCCCGEsBB0A9dOZgCZAask1by3EC0FGWdCCCGEEMKC++BLL71k3Ucr7TJazXsL0VKQcSaEEEII0Yr55ZdfrJshgUYIWMIG10TJrATVvLcQLREZZ0IIIYQQrRyiHJ5zzjk2EuLpp59e0Zmtat5biJaGAoKIukb1VgghqodkrBBC1BbNnAkhhBBCCCFEBpBxJoQQQgghhBAZQMaZEEIIIYQQQmQAGWdCCCGEEEIIkQFknAkhhBBCCCFEBpBxJoQQQgghhBAZQMaZEEIIIcT/27WDEwBhGAyjdZnsP0+WUdubA1h/4b1TyLkUPghAAHEGAAAQQJwBAAAEOM7bHLp7LQAAANjvEWdVtZbwF94twHv8sQB7OWsEAAAIIM4AAAACiDMAAIAA4gwAACCAOAMAAPjcGBcsdYtfXLusvgAAAABJRU5ErkJggg==)"
      ],
      "metadata": {
        "id": "EH8IxitlANWm"
      }
    },
    {
      "cell_type": "markdown",
      "source": [
        "**Answer-7**\n",
        "\n",
        "Tuples in Python ensure data integrity primarily through their immutability, which means that once a tuple is created, its elements cannot be modified, added, or removed. This immutability provides several benefits for maintaining consistent and reliable data\n",
        "\n",
        "1. Immutability Prevents Unintentional Changes\n",
        "2. Tuples Can Be Used as Dictionary Keys\n",
        "3. Protection in Multi-threaded Environments\n",
        "4. Intentional Data Design\n",
        "5. Memory Efficiency\n",
        "6. Preventing Accidental Changes in Function Arguments\n",
        "7. Tuples as Fixed-Length Data Structures\n"
      ],
      "metadata": {
        "id": "K0ptZZduAl93"
      }
    },
    {
      "cell_type": "markdown",
      "source": [
        "**ANSWER-8**\n",
        "\n",
        "**What is a Hash Table?**\n",
        "\n",
        "A hash table is a data structure that stores key-value pairs and allows for efficient data retrieval. It uses a hashing function to compute an index (or hash) for each key, which determines where the corresponding value will be stored in the underlying storage array.\n",
        "\n",
        "**Hash Tables and Python Dictionaries**\n",
        "\n",
        "In Python, the built-in dictionary (dict) is implemented using a hash table. It maps keys to values and provides efficient operations for insertion, deletion, and lookup.\n",
        "\n",
        "**Key Characteristics of Python Dictionaries:**\n",
        "\n",
        "**Hash-Based:** Each key is hashed to determine its storage location.\n",
        "\n",
        "**Key Uniqueness:** Each key in a dictionary must be unique. If a duplicate key is added, the previous value is overwritten.\n",
        "\n",
        "**Fast Lookups:** Average time complexity for lookups, insertions, and deletions is O(1).\n",
        "\n",
        "**Dynamic Resizing:** Python dictionaries automatically resize their internal storage to maintain efficiency as the number of elements grows.\n",
        "\n",
        "**When to Use Dictionaries in Python**\n",
        "\n",
        "  When you need to store and quickly access key-value pairs.\n",
        "\n",
        "  When you need a flexible, built-in implementation of a hash table.\n",
        "\n",
        "  For operations requiring constant-time complexity for lookups and updates.\n",
        "\n",
        "Python dictionaries are a robust, user-friendly abstraction of hash tables, providing high performance and ease of use for a wide range of applications\n"
      ],
      "metadata": {
        "id": "goG_E5USBk0c"
      }
    },
    {
      "cell_type": "markdown",
      "source": [
        "**Answer-9**\n",
        "\n",
        "Yes, lists in Python can contain elements of different data types. Python lists are highly flexible and can store a mix of integers, strings, floats, booleans, objects, other lists, and even custom types.\n",
        "\n"
      ],
      "metadata": {
        "id": "L0-hQpoKDAlv"
      }
    },
    {
      "cell_type": "markdown",
      "source": [
        "**Answer-10**\n",
        "\n",
        "\n",
        "In Python, strings are immutable, meaning once a string is created, its content cannot be changed. This design choice has several important reasons and benefits, both in terms of performance and functionality.\n",
        "\n",
        "**Reasons Why Strings Are Immutable in Python**\n",
        "\n",
        "**1. Performance Optimization**\n",
        "\n",
        "**Memory Efficiency:**\n",
        "\n",
        " Immutable objects, like strings, can be more memory-efficient. Python can optimize the storage of immutable objects by reusing them. For example, when two strings with the same content are created, Python can store them in the same memory location, saving memory and improving performance.\n",
        "\n",
        "This is particularly true for strings in Python, which are often interned (shared in memory) if they have the same value. This reduces the overhead of having multiple copies of identical strings.\n",
        "\n",
        "***2. Safety in Multithreading***\n",
        "\n",
        "**Thread Safety:**\n",
        "\n",
        "Since strings cannot be modified, they are inherently thread-safe. This means that multiple threads can access the same string without worrying about one thread modifying it while another is using it. This eliminates the need for locks or other synchronization mechanisms when working with strings in a multi-threaded environment.\n",
        "\n",
        "**3. Hashing and Dictionary Keys**\n",
        "\n",
        "**Hashable Type:**\n",
        "\n",
        "In Python, immutable objects are hashable, meaning they can be used as keys in dictionaries or as elements in sets. Since strings are immutable, their hash value remains constant throughout their lifetime, making them reliable as dictionary keys or set elements.\n",
        "\n",
        "If strings were mutable, their hash value could change after they are used as dictionary keys, leading to inconsistencies and errors in data storage or retrieval.\n"
      ],
      "metadata": {
        "id": "i6C3aJWYDR3_"
      }
    },
    {
      "cell_type": "markdown",
      "source": [
        "**Answer-11**\n",
        "\n",
        "Both lists and dictionaries are powerful, but they have distinct strengths. - Maintain order, making them great when sequence matters. - Allow duplicates—ideal for collections where repetition is key. - Quick access to elements by index, perfect for iteration.\n"
      ],
      "metadata": {
        "id": "id6VsrKYEaXS"
      }
    },
    {
      "cell_type": "markdown",
      "source": [
        "**Answer-12**\n",
        "\n",
        "Tuples are preferred over lists in the following cases:\n",
        "\n",
        "1.When we want to ensure that data is not changed accidentally. Tuples being immutable do not allow any changes in its data.\n",
        "\n",
        "2.When we want faster access to data that will not change as tuples are faster than lists.\n",
        "\n",
        "3.When we want to use the data as a key in a dictionary. Tuples can be used as keys in a dictionary, but lists cannot.\n",
        "\n",
        "4.When we want to use the data as an element of a set. Tuples can be used as elements of a set, but lists cannot.\n",
        "\n"
      ],
      "metadata": {
        "id": "sbmhaBEWEfPr"
      }
    },
    {
      "cell_type": "markdown",
      "source": [
        "**Answer-13**\n",
        "\n",
        "In Python, sets automatically handle duplicate values by removing duplicates. A set is an unordered collection of unique elements, meaning that it only stores each element once, even if you try to add the same element multiple times.\n",
        "\n",
        "**How Sets Handle Duplicates**\n",
        "\n",
        "**Automatic Elimination**: When you try to add a duplicate element to a set, Python will simply ignore it. This ensures that each element in a set is unique.\n",
        "\n",
        "**No Duplicate Entries:** If you add a duplicate value, the set will not change. The element will not be added again.\n"
      ],
      "metadata": {
        "id": "iGVSqqblFK15"
      }
    },
    {
      "cell_type": "markdown",
      "source": [
        "**Answer-14**\n",
        "\n",
        "The in keyword works differently for lists and dictionaries in Python, as it checks for membership in different ways.\n",
        "\n",
        "**1. For Lists:**\n",
        "\n",
        "When you use the in keyword with a list, it checks whether a given value exists as an element in the list.\n",
        "\n",
        "**2. For Dictionaries:**\n",
        "\n",
        "When you use the in keyword with a dictionary, it checks whether a given key exists in the dictionary, not the values."
      ],
      "metadata": {
        "id": "n236OD3GGBRA"
      }
    },
    {
      "cell_type": "markdown",
      "source": [
        "**Answer-15**\n",
        "\n",
        "No, you cannot modify the elements of a tuple in Python. This is because tuples are immutable, meaning that once a tuple is created, its elements cannot be changed, added, or removed.\n",
        "\n",
        "**Why are tuples immutable?**\n",
        "\n",
        "The immutability of tuples is by design, and it serves several purposes:\n",
        "\n",
        "**Efficiency:**\n",
        "\n",
        " Since tuples are immutable, they can be stored more efficiently in memory. This makes them faster for iteration and access compared to lists.\n",
        "\n",
        "**Safety:**\n",
        "\n",
        " Immutability ensures that the data inside a tuple cannot be accidentally changed, which can be useful in situations where data integrity is important.\n",
        "\n",
        "**Hashability:**\n",
        "\n",
        " Tuples can be used as keys in dictionaries, while lists cannot. This is because tuples are hashable, and their immutability ensures that their hash value remains constant."
      ],
      "metadata": {
        "id": "CBE2z7I-Gd3U"
      }
    },
    {
      "cell_type": "markdown",
      "source": [
        "**Answer-16**\n",
        "\n",
        "A nested dictionary is a dictionary where the values associated with one or more keys are themselves dictionaries. This allows you to represent more complex data structures in a hierarchical manner, where each level of the dictionary can hold additional key-value pairs.\n",
        "\n",
        "**Use Case:**\n",
        "\n",
        "A nested dictionary is useful when you need to store and organize hierarchical data. Some common use cases include:\n",
        "\n",
        "**Storing employee information:**\n",
        "\n",
        " As shown in the example, where each employee has multiple attributes (e.g., name, age, contact).\n",
        "\n",
        "**Representing JSON-like data:**\n",
        "\n",
        " When working with JSON responses from APIs, which often have nested structures (e.g., a list of users, each with address and contact information).\n",
        "\n",
        "**Storing settings or configurations:**\n",
        "\n",
        " For complex configuration data where each section has multiple sub-sections (e.g., system settings with network, security, and user preferences).\n",
        "\n",
        "**Database-like structures:**\n",
        "\n",
        " For example, when managing a collection of products in an e-commerce store, where each product has categories, reviews, and prices.\n",
        ""
      ],
      "metadata": {
        "id": "O25kxtozHHBZ"
      }
    },
    {
      "cell_type": "markdown",
      "source": [
        "**Answer-17**\n",
        "\n",
        "The time complexity of accessing elements in a Python dictionary is O(1) on average, meaning it takes constant time to access an element, regardless of the size of the dictionary.\n",
        "\n",
        "**Worst-Case Time Complexity:**\n",
        "\n",
        "While the average time complexity is O(1), the worst-case time complexity can be O(n), where n is the number of elements in the dictionary. This happens in the case of hash collisions, where multiple keys hash to the same location in the table. In such cases, Python may need to search through multiple keys at that location to find the correct one.\n",
        "\n",
        "However, Python's dictionary implementation uses techniques like open addressing and rehashing to minimize collisions, making the worst-case scenario rare in practice."
      ],
      "metadata": {
        "id": "kBUvmOafH31N"
      }
    },
    {
      "cell_type": "markdown",
      "source": [
        "**Answer-18**\n",
        "\n",
        "Lists are preferred over dictionaries in situations where:\n",
        "\n",
        "**1. Order Matters:**\n",
        "\n",
        "\n",
        "Lists maintain the order of elements, meaning the order in which elements are added is preserved. If you need to preserve the sequence of items and access them by their position (index), lists are the better choice.\n",
        "\n",
        "Example: When you need to maintain an ordered collection, such as a list of tasks to be completed in sequence.\n",
        "\n",
        "**2. When You Need to Access Elements by Index:**\n",
        "\n",
        "Lists allow access to elements using an index (e.g., list[0]), which is useful when you need to retrieve or modify elements based on their position in the collection.\n",
        "\n",
        "Example: If you are working with a collection of items where the position of each item is important, like a list of students' grades in a class.\n",
        "\n",
        "**3. When You Need to Store a Collection of Homogeneous Items:**\n",
        "\n",
        "Lists are ideal when you need to store a collection of items of the same type, such as numbers, strings, or objects. If the data you're working with doesn't require key-value pairs or is not associated with unique identifiers, a list is simpler and more efficient.\n",
        "\n",
        "Example: A list of numbers to represent scores, or a list of strings representing names.\n",
        "python\n",
        "\n",
        "**7. When You Need to Perform Simple Operations:**\n",
        "\n",
        "Lists are typically faster for simple operations like adding, removing, or modifying elements at the end of the list. If you don’t need the extra functionality that dictionaries provide (such as key-based lookups), lists are simpler and more efficient.\n"
      ],
      "metadata": {
        "id": "n3gfdP_tL1JS"
      }
    },
    {
      "cell_type": "markdown",
      "source": [
        "**Answer-19**\n",
        "\n",
        "Dictionaries in Python are considered unordered because, prior to Python 3.7, the order in which key-value pairs were stored in a dictionary was not guaranteed. The underlying implementation of dictionaries used a hash table, which does not maintain the order of insertion. In fact, the keys were stored based on their hash values, which did not have any relationship to their insertion order.\n",
        "\n",
        "**Python 3.7 and Later:**\n",
        "\n",
        "Starting from Python 3.7, dictionaries preserve the insertion order as an implementation detail. This means that, although dictionaries are still technically unordered, they now maintain the order in which key-value pairs are inserted. However, this behavior should not be relied upon as part of the dictionary's official specification until Python 3.8, where it was officially guaranteed."
      ],
      "metadata": {
        "id": "pg43e-ScMnU_"
      }
    },
    {
      "cell_type": "markdown",
      "source": [
        "**Answer-20**\n",
        "\n",
        "The primary difference between a list and a dictionary in terms of data retrieval lies in how the data is accessed and the type of key used for retrieval.\n",
        "\n",
        "**1. Data Retrieval in a List:**\n",
        "\n",
        "**Index-based Access:** In a list, elements are accessed by their index, which is an integer value representing the position of an element in the list.\n",
        "\n",
        "**Order:** Lists maintain the order of elements, so you can access elements sequentially by their index. The index is always an integer starting from 0.\n",
        "\n",
        "**Time Complexity:** Retrieving an element from a list by index is O(1), meaning it takes constant time regardless of the size of the list.\n",
        "\n",
        "**2. Data Retrieval in a Dictionary:**\n",
        "\n",
        "**Key-based Access:** In a dictionary, elements are accessed by their keys, which can be any immutable data type (e.g., strings, numbers, tuples). Each key is associated with a value, and the key is used to retrieve the corresponding value.\n",
        "\n",
        "**Order (in Python 3.7 and later):** While dictionaries are technically unordered (prior to Python 3.7), starting from Python 3.7, dictionaries preserve the order of insertion. However, this does not affect the retrieval process, which still relies on keys.\n",
        "\n",
        "**Time Complexity:** Retrieving a value from a dictionary by key is O(1) on average, meaning it takes constant time. This is achieved using a hash table that maps keys to their associated values."
      ],
      "metadata": {
        "id": "elkSmRDzNKyR"
      }
    },
    {
      "cell_type": "markdown",
      "source": [
        "**Practical Questions**"
      ],
      "metadata": {
        "id": "Tkdy4SoyOVdm"
      }
    },
    {
      "cell_type": "code",
      "source": [
        "#Answer-1"
      ],
      "metadata": {
        "id": "VmgNr3myPMyV"
      },
      "execution_count": null,
      "outputs": []
    },
    {
      "cell_type": "code",
      "source": [
        "name = \"Neha Tripathi\"\n",
        "print(name)\n"
      ],
      "metadata": {
        "colab": {
          "base_uri": "https://localhost:8080/"
        },
        "id": "_UllMQlhOz00",
        "outputId": "3ca5ce17-dd61-469d-eb41-70e7ad715ccc"
      },
      "execution_count": 6,
      "outputs": [
        {
          "output_type": "stream",
          "name": "stdout",
          "text": [
            "Neha Tripathi\n"
          ]
        }
      ]
    },
    {
      "cell_type": "code",
      "source": [
        "#Answer-2\n",
        "\n",
        "string = \"Hello World\"\n",
        "length = len(string)\n",
        "print(length)\n"
      ],
      "metadata": {
        "colab": {
          "base_uri": "https://localhost:8080/"
        },
        "id": "5Ys3HNBoPSf0",
        "outputId": "e4ffc984-ac51-433b-bd8b-3c40c3697f50"
      },
      "execution_count": 7,
      "outputs": [
        {
          "output_type": "stream",
          "name": "stdout",
          "text": [
            "11\n"
          ]
        }
      ]
    },
    {
      "cell_type": "code",
      "source": [
        "#Answer-3\n",
        "\n",
        "string = \"Python Programming\"\n",
        "sliced_string = string[:3]\n",
        "print(sliced_string)\n"
      ],
      "metadata": {
        "colab": {
          "base_uri": "https://localhost:8080/"
        },
        "id": "X1WiUCJVPkP-",
        "outputId": "d4755bbc-6dbb-4ca7-9de5-c0328c598287"
      },
      "execution_count": 8,
      "outputs": [
        {
          "output_type": "stream",
          "name": "stdout",
          "text": [
            "Pyt\n"
          ]
        }
      ]
    },
    {
      "cell_type": "code",
      "source": [
        "#Answer-4\n",
        "\n",
        "string = \"hello\"\n",
        "uppercase_string = string.upper()\n",
        "print(uppercase_string)\n"
      ],
      "metadata": {
        "colab": {
          "base_uri": "https://localhost:8080/"
        },
        "id": "rkU8YH3aPtWc",
        "outputId": "e6c60c22-9633-447a-92d9-fd6f82956ce9"
      },
      "execution_count": 9,
      "outputs": [
        {
          "output_type": "stream",
          "name": "stdout",
          "text": [
            "HELLO\n"
          ]
        }
      ]
    },
    {
      "cell_type": "code",
      "source": [
        "#Answer-5\n",
        "\n",
        "string = \"I like apple\"\n",
        "modified_string = string.replace(\"apple\", \"orange\")\n",
        "print(modified_string)\n"
      ],
      "metadata": {
        "colab": {
          "base_uri": "https://localhost:8080/"
        },
        "id": "S__pNZmcP7ZI",
        "outputId": "6175a533-6713-4b41-d090-ca1687aa88b4"
      },
      "execution_count": 10,
      "outputs": [
        {
          "output_type": "stream",
          "name": "stdout",
          "text": [
            "I like orange\n"
          ]
        }
      ]
    },
    {
      "cell_type": "code",
      "source": [
        "#Answer-6\n",
        "\n",
        "my_list = [1, 2, 3, 4, 5]\n",
        "print(my_list)\n"
      ],
      "metadata": {
        "colab": {
          "base_uri": "https://localhost:8080/"
        },
        "id": "zGXmcdv5QTVS",
        "outputId": "e4ea3fd8-be60-46cd-b7ef-5fb1d8d31c89"
      },
      "execution_count": 11,
      "outputs": [
        {
          "output_type": "stream",
          "name": "stdout",
          "text": [
            "[1, 2, 3, 4, 5]\n"
          ]
        }
      ]
    },
    {
      "cell_type": "code",
      "source": [
        "#Answer-7\n",
        "\n",
        "my_list = [1, 2, 3, 4]\n",
        "my_list.append(10)\n",
        "print(my_list)\n"
      ],
      "metadata": {
        "colab": {
          "base_uri": "https://localhost:8080/"
        },
        "id": "Oq8xws5NQfwv",
        "outputId": "a370d7bb-34ee-4261-c62d-7a0abfcba9f5"
      },
      "execution_count": 12,
      "outputs": [
        {
          "output_type": "stream",
          "name": "stdout",
          "text": [
            "[1, 2, 3, 4, 10]\n"
          ]
        }
      ]
    },
    {
      "cell_type": "code",
      "source": [
        "#Answer-8\n",
        "\n",
        "my_list = [1, 2, 3, 4, 5]\n",
        "my_list.remove(3)\n",
        "print(my_list)\n"
      ],
      "metadata": {
        "colab": {
          "base_uri": "https://localhost:8080/"
        },
        "id": "gu882bfsQpfi",
        "outputId": "fa380ba9-66f7-4684-b219-ad9482f326ac"
      },
      "execution_count": 13,
      "outputs": [
        {
          "output_type": "stream",
          "name": "stdout",
          "text": [
            "[1, 2, 4, 5]\n"
          ]
        }
      ]
    },
    {
      "cell_type": "code",
      "source": [
        "#Answer-9\n",
        "\n",
        "my_list = ['a', 'b', 'c', 'd']\n",
        "second_element = my_list[1]\n",
        "print(second_element)\n"
      ],
      "metadata": {
        "colab": {
          "base_uri": "https://localhost:8080/"
        },
        "id": "LfB2lMk4Qxec",
        "outputId": "d4fb9a19-0972-4030-a116-7d3258361b29"
      },
      "execution_count": 15,
      "outputs": [
        {
          "output_type": "stream",
          "name": "stdout",
          "text": [
            "b\n"
          ]
        }
      ]
    },
    {
      "cell_type": "code",
      "source": [
        "#Answer-10\n",
        "\n",
        "my_list = [10, 20, 30, 40, 50]\n",
        "reversed_list = my_list[::-1]\n",
        "print(reversed_list)\n"
      ],
      "metadata": {
        "colab": {
          "base_uri": "https://localhost:8080/"
        },
        "id": "iYuKTS1PQzhL",
        "outputId": "cae0f7c8-8f96-404a-e9c5-638b9e1d057c"
      },
      "execution_count": 16,
      "outputs": [
        {
          "output_type": "stream",
          "name": "stdout",
          "text": [
            "[50, 40, 30, 20, 10]\n"
          ]
        }
      ]
    },
    {
      "cell_type": "code",
      "source": [
        "#Answer-11\n",
        "\n",
        "my_tuple = (10, 20, 30)\n",
        "print(my_tuple)\n"
      ],
      "metadata": {
        "colab": {
          "base_uri": "https://localhost:8080/"
        },
        "id": "rh-3qbKLRESQ",
        "outputId": "2508069d-f2b1-4157-fd96-1c6bde0fe0cd"
      },
      "execution_count": 17,
      "outputs": [
        {
          "output_type": "stream",
          "name": "stdout",
          "text": [
            "(10, 20, 30)\n"
          ]
        }
      ]
    },
    {
      "cell_type": "code",
      "source": [
        "#Answer-12\n",
        "\n",
        "my_tuple = ('apple', 'banana', 'cherry')\n",
        "first_element = my_tuple[0]\n",
        "print(first_element)\n"
      ],
      "metadata": {
        "colab": {
          "base_uri": "https://localhost:8080/"
        },
        "id": "giD5vXHfRQ0K",
        "outputId": "740ba5ec-7bf2-4e25-f5de-43ffe7a863ea"
      },
      "execution_count": 18,
      "outputs": [
        {
          "output_type": "stream",
          "name": "stdout",
          "text": [
            "apple\n"
          ]
        }
      ]
    },
    {
      "cell_type": "code",
      "source": [
        "#Answer-13\n",
        "\n",
        "my_tuple = (1, 2, 3, 2, 4, 2)\n",
        "count = my_tuple.count(2)\n",
        "print(count)\n"
      ],
      "metadata": {
        "colab": {
          "base_uri": "https://localhost:8080/"
        },
        "id": "u_BmyB2KRc4_",
        "outputId": "7c72ca1a-fbd2-4596-ea12-a325b89aa437"
      },
      "execution_count": 19,
      "outputs": [
        {
          "output_type": "stream",
          "name": "stdout",
          "text": [
            "3\n"
          ]
        }
      ]
    },
    {
      "cell_type": "code",
      "source": [
        "#Answer-14\n",
        "\n",
        "my_tuple = ('dog', 'cat', 'rabbit')\n",
        "index = my_tuple.index('cat')\n",
        "print(index)\n"
      ],
      "metadata": {
        "colab": {
          "base_uri": "https://localhost:8080/"
        },
        "id": "rt3UVoJBRkuj",
        "outputId": "54757912-52d4-4cea-aa6a-c8d760a46057"
      },
      "execution_count": 20,
      "outputs": [
        {
          "output_type": "stream",
          "name": "stdout",
          "text": [
            "1\n"
          ]
        }
      ]
    },
    {
      "cell_type": "code",
      "source": [
        "#Answer-15\n",
        "\n",
        "my_tuple = ('apple', 'orange', 'banana')\n",
        "if 'banana' in my_tuple:\n",
        "    print(\"banana is in the tuple\")\n",
        "else:\n",
        "    print(\"banana is not in the tuple\")\n"
      ],
      "metadata": {
        "colab": {
          "base_uri": "https://localhost:8080/"
        },
        "id": "Y-4VW9zURtRZ",
        "outputId": "f96beee8-9945-4fb5-e0d9-a20c1add5de6"
      },
      "execution_count": 21,
      "outputs": [
        {
          "output_type": "stream",
          "name": "stdout",
          "text": [
            "banana is in the tuple\n"
          ]
        }
      ]
    },
    {
      "cell_type": "code",
      "source": [
        "#Answer-16\n",
        "\n",
        "my_set = {1, 2, 3, 4, 5}\n",
        "print(my_set)\n"
      ],
      "metadata": {
        "colab": {
          "base_uri": "https://localhost:8080/"
        },
        "id": "WBBa_n_PR2EF",
        "outputId": "c2c6af6b-7e68-48a6-c68d-097799b76d48"
      },
      "execution_count": 22,
      "outputs": [
        {
          "output_type": "stream",
          "name": "stdout",
          "text": [
            "{1, 2, 3, 4, 5}\n"
          ]
        }
      ]
    },
    {
      "cell_type": "code",
      "source": [
        "#Answer-17\n",
        "\n",
        "my_set = {1, 2, 3, 4}\n",
        "my_set.add(6)\n",
        "print(my_set)\n"
      ],
      "metadata": {
        "colab": {
          "base_uri": "https://localhost:8080/"
        },
        "id": "Q6Gj2BlKSB2L",
        "outputId": "ae63e1ab-5169-4d80-8856-d4d4dc7fcf98"
      },
      "execution_count": 23,
      "outputs": [
        {
          "output_type": "stream",
          "name": "stdout",
          "text": [
            "{1, 2, 3, 4, 6}\n"
          ]
        }
      ]
    },
    {
      "cell_type": "code",
      "source": [
        "#Answer-18\n",
        "\n",
        "my_tuple = (10, 20, 30)\n",
        "print(my_tuple)\n"
      ],
      "metadata": {
        "colab": {
          "base_uri": "https://localhost:8080/"
        },
        "id": "u21wwScnSM_l",
        "outputId": "b6ed3c9e-d37b-4a2f-a289-dc13441773a5"
      },
      "execution_count": 24,
      "outputs": [
        {
          "output_type": "stream",
          "name": "stdout",
          "text": [
            "(10, 20, 30)\n"
          ]
        }
      ]
    },
    {
      "cell_type": "code",
      "source": [
        "#Answer-19\n",
        "\n",
        "my_tuple = ('apple', 'banana', 'cherry')\n",
        "first_element = my_tuple[0]\n",
        "print(first_element)\n"
      ],
      "metadata": {
        "colab": {
          "base_uri": "https://localhost:8080/"
        },
        "id": "4F9V9nzhWjc7",
        "outputId": "e2cac0ac-25df-4bb9-dc11-72625ab4c7d4"
      },
      "execution_count": 25,
      "outputs": [
        {
          "output_type": "stream",
          "name": "stdout",
          "text": [
            "apple\n"
          ]
        }
      ]
    },
    {
      "cell_type": "code",
      "source": [
        "#Answer-20\n",
        "\n",
        "my_tuple = (1, 2, 3, 2, 4, 2)\n",
        "count = my_tuple.count(2)\n",
        "print(count)\n"
      ],
      "metadata": {
        "colab": {
          "base_uri": "https://localhost:8080/"
        },
        "id": "hN7fcY6HWuQS",
        "outputId": "cf18e8aa-3b7b-40ea-d325-0d2108001ac2"
      },
      "execution_count": 26,
      "outputs": [
        {
          "output_type": "stream",
          "name": "stdout",
          "text": [
            "3\n"
          ]
        }
      ]
    },
    {
      "cell_type": "code",
      "source": [
        "#Answer-21\n",
        "\n",
        "my_tuple = ('dog', 'cat', 'rabbit')\n",
        "index = my_tuple.index('cat')\n",
        "print(index)\n"
      ],
      "metadata": {
        "colab": {
          "base_uri": "https://localhost:8080/"
        },
        "id": "MqRX3pOOW1xn",
        "outputId": "4ec4b5d2-9ac1-4013-ea06-e6f0c4d7bd98"
      },
      "execution_count": 27,
      "outputs": [
        {
          "output_type": "stream",
          "name": "stdout",
          "text": [
            "1\n"
          ]
        }
      ]
    },
    {
      "cell_type": "code",
      "source": [
        "#Answer-22\n",
        "\n",
        "my_tuple = ('apple', 'orange', 'banana')\n",
        "if 'banana' in my_tuple:\n",
        "    print(\"banana is in the tuple\")\n",
        "else:\n",
        "    print(\"banana is not in the tuple\")\n"
      ],
      "metadata": {
        "colab": {
          "base_uri": "https://localhost:8080/"
        },
        "id": "GT2Ym29zW8aC",
        "outputId": "12a44d40-f0dc-4a53-fb48-d01af063b36a"
      },
      "execution_count": 28,
      "outputs": [
        {
          "output_type": "stream",
          "name": "stdout",
          "text": [
            "banana is in the tuple\n"
          ]
        }
      ]
    },
    {
      "cell_type": "code",
      "source": [
        "#Answer-23\n",
        "\n",
        "my_set = {1, 2, 3, 4, 5}\n",
        "print(my_set)\n"
      ],
      "metadata": {
        "colab": {
          "base_uri": "https://localhost:8080/"
        },
        "id": "jSGGvOXaXE1f",
        "outputId": "6c1f2b6e-5f2f-4c91-9f8b-8fd5f1222309"
      },
      "execution_count": 29,
      "outputs": [
        {
          "output_type": "stream",
          "name": "stdout",
          "text": [
            "{1, 2, 3, 4, 5}\n"
          ]
        }
      ]
    },
    {
      "cell_type": "code",
      "source": [
        "#Answer-24\n",
        "\n",
        "my_set = {1, 2, 3, 4}\n",
        "my_set.add(6)\n",
        "print(my_set)\n",
        "\n"
      ],
      "metadata": {
        "colab": {
          "base_uri": "https://localhost:8080/"
        },
        "id": "GGiEYnKeXMfS",
        "outputId": "80757ea2-1b57-4c84-bce7-ae3260b15ec4"
      },
      "execution_count": 31,
      "outputs": [
        {
          "output_type": "stream",
          "name": "stdout",
          "text": [
            "{1, 2, 3, 4, 6}\n"
          ]
        }
      ]
    },
    {
      "cell_type": "code",
      "source": [],
      "metadata": {
        "id": "zhtiJwjrXWT5"
      },
      "execution_count": null,
      "outputs": []
    }
  ]
}